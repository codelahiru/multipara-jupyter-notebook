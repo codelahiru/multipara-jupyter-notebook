{
 "cells": [
  {
   "cell_type": "markdown",
   "id": "ba851a46",
   "metadata": {},
   "source": [
    "A single Neuron with 1 input and 1 weight"
   ]
  },
  {
   "cell_type": "code",
   "execution_count": 10,
   "id": "c9ad8594",
   "metadata": {},
   "outputs": [],
   "source": [
    "import random"
   ]
  },
  {
   "cell_type": "code",
   "execution_count": 11,
   "id": "bc0548c6",
   "metadata": {},
   "outputs": [
    {
     "name": "stdout",
     "output_type": "stream",
     "text": [
      "weight is  0.25383727534934475\n",
      "net value is  0.25383727534934475\n",
      "0\n"
     ]
    }
   ],
   "source": [
    "trn_in = 1\n",
    "w = random.random() # this is a randomly assigned weight\n",
    "t = 0.4\n",
    "\n",
    "print('weight is ', w)\n",
    "net = trn_in * w\n",
    "print('net value is ', net)\n",
    "\n",
    "\n",
    "if net > t:\n",
    "    print(1)\n",
    "else: \n",
    "    print(0)\n",
    "    \n",
    "    "
   ]
  },
  {
   "cell_type": "code",
   "execution_count": null,
   "id": "b36fcbe5",
   "metadata": {},
   "outputs": [],
   "source": []
  },
  {
   "cell_type": "code",
   "execution_count": null,
   "id": "ca326dec",
   "metadata": {},
   "outputs": [],
   "source": []
  }
 ],
 "metadata": {
  "kernelspec": {
   "display_name": "Python 3 (ipykernel)",
   "language": "python",
   "name": "python3"
  },
  "language_info": {
   "codemirror_mode": {
    "name": "ipython",
    "version": 3
   },
   "file_extension": ".py",
   "mimetype": "text/x-python",
   "name": "python",
   "nbconvert_exporter": "python",
   "pygments_lexer": "ipython3",
   "version": "3.9.13"
  }
 },
 "nbformat": 4,
 "nbformat_minor": 5
}
