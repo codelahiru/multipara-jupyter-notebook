{
 "cells": [
  {
   "cell_type": "code",
   "execution_count": 24,
   "id": "5b9c65e0",
   "metadata": {},
   "outputs": [],
   "source": [
    "import numpy as np\n",
    "import pandas as pd\n",
    "from matplotlib import pyplot as plt"
   ]
  },
  {
   "cell_type": "code",
   "execution_count": 25,
   "id": "e9f0b73b",
   "metadata": {
    "scrolled": true
   },
   "outputs": [],
   "source": [
    "# data = pd.read_csv('https://raw.githubusercontent.com/codelahiru/datasci-datasets/main/Digit%20Recognizer/train.csv')\n",
    "\n",
    "data = pd.read_csv('train.csv', encoding=\"utf-8\")"
   ]
  },
  {
   "cell_type": "code",
   "execution_count": 26,
   "id": "9b9f24f4",
   "metadata": {},
   "outputs": [],
   "source": [
    "# Normalize the pixel values\n",
    "data = np.array(data)\n",
    "data[:, 1:] = data[:, 1:] / 255.0"
   ]
  },
  {
   "cell_type": "code",
   "execution_count": 27,
   "id": "a60704ef",
   "metadata": {},
   "outputs": [],
   "source": [
    "# Shuffle the data\n",
    "np.random.shuffle(data)"
   ]
  },
  {
   "cell_type": "code",
   "execution_count": 28,
   "id": "59d04f0d",
   "metadata": {},
   "outputs": [],
   "source": [
    "# Split the data into training and development sets\n",
    "data_dev = data[:1000].T\n",
    "Y_dev = data_dev[0]\n",
    "X_dev = data_dev[1:]\n",
    "\n",
    "data_train = data[1000:].T\n",
    "Y_train = data_train[0]\n",
    "X_train = data_train[1:]"
   ]
  },
  {
   "cell_type": "code",
   "execution_count": 29,
   "id": "f6ec6c80",
   "metadata": {},
   "outputs": [],
   "source": [
    "# Initializing parameters\n",
    "\n",
    "def init_params():\n",
    "    W1 = np.random.rand(10, 784)\n",
    "    b1 = np.random.rand(10, 1)\n",
    "    W2 = np.random.rand(10, 10)\n",
    "    b2 = np.random.rand(10, 1)\n",
    "    return W1, b1, W2, b2\n",
    "    "
   ]
  },
  {
   "cell_type": "code",
   "execution_count": 30,
   "id": "22857922",
   "metadata": {},
   "outputs": [],
   "source": [
    "# forward propagation\n",
    "\n",
    "def ReLU(Z):\n",
    "    return np.maximum(0, Z)\n",
    "\n",
    "def softmax(Z):\n",
    "    return np.exp(Z)/np.sum(np.exp(Z))\n",
    "\n",
    "def forward_prop(W1, b1, W2, b2, X):\n",
    "    Z1 = W1.dot(X) + b1\n",
    "    A1 = ReLU(Z1)\n",
    "    Z2 = W2.dot(A1) + b2\n",
    "    A2 = softmax(Z2)\n",
    "    return Z1, A1, Z2, A2"
   ]
  },
  {
   "cell_type": "code",
   "execution_count": 31,
   "id": "7c230dc4",
   "metadata": {},
   "outputs": [],
   "source": [
    "# backward propagation\n",
    "\n",
    "def one_hot(Y):\n",
    "    one_hot_Y = np.zeros((Y.size, Y.max() + 1))\n",
    "    one_hot_Y[np.arange(Y.size), Y] = 1\n",
    "    one_hot_Y = one_hot_Y.T\n",
    "    return one_hot_Y\n",
    "\n",
    "def deriv_ReLU(Z):\n",
    "    return Z > 0\n",
    "\n",
    "def back_prop(Z1, A1, Z2, A2, W2, X, Y):\n",
    "    m = Y.size\n",
    "    one_hot_Y = one_hot(Y)\n",
    "    dZ2 = A2 - one_hot_Y\n",
    "    dW2 = 1/m * dZ2.dot(A1.T)\n",
    "    db2 = 1/m * np.sum(dZ2, axis=1, keepdims=True)\n",
    "    dZ1 = W2.T.dot(dZ2) * deriv_ReLU(Z1)\n",
    "    dW1 = 1/m * dZ1.dot(X.T)\n",
    "    db1 = 1/m * np.sum(dZ1, axis=1, keepdims=True)\n",
    "    return dW1, db1, dW2, db2"
   ]
  },
  {
   "cell_type": "code",
   "execution_count": 32,
   "id": "9798f5d4",
   "metadata": {},
   "outputs": [],
   "source": [
    "def update_params(W1, b1, W2, b2, dW1, db1, dW2, db2, alpha):\n",
    "    W1 = W1 - alpha * dW1\n",
    "    b1 = b1 - alpha * db1\n",
    "    W2 = W2 - alpha * dW2\n",
    "    b2 = b2 - alpha * db2\n",
    "    return W1, b1, W2, b2"
   ]
  },
  {
   "cell_type": "code",
   "execution_count": 33,
   "id": "a150d742",
   "metadata": {},
   "outputs": [],
   "source": [
    "def get_predictions(A2):\n",
    "    return np.argmax(A2, 0)\n",
    "\n",
    "def get_accuracy(predictions, Y):\n",
    "    return np.sum(predictions == Y) / Y.size"
   ]
  },
  {
   "cell_type": "code",
   "execution_count": 34,
   "id": "e187ff84",
   "metadata": {
    "scrolled": true
   },
   "outputs": [
    {
     "name": "stderr",
     "output_type": "stream",
     "text": [
      "C:\\Users\\gayan\\AppData\\Local\\Temp\\ipykernel_8328\\3800934776.py:7: RuntimeWarning: overflow encountered in exp\n",
      "  return np.exp(Z)/np.sum(np.exp(Z))\n",
      "C:\\Users\\gayan\\AppData\\Local\\Temp\\ipykernel_8328\\3800934776.py:7: RuntimeWarning: invalid value encountered in divide\n",
      "  return np.exp(Z)/np.sum(np.exp(Z))\n"
     ]
    },
    {
     "name": "stdout",
     "output_type": "stream",
     "text": [
      "Iteration: 0, Accuracy: 0.0982\n",
      "Iteration: 10, Accuracy: 0.0982\n",
      "Iteration: 20, Accuracy: 0.0982\n",
      "Iteration: 30, Accuracy: 0.0982\n",
      "Iteration: 40, Accuracy: 0.0982\n",
      "Iteration: 50, Accuracy: 0.0982\n",
      "Iteration: 60, Accuracy: 0.0982\n",
      "Iteration: 70, Accuracy: 0.0982\n",
      "Iteration: 80, Accuracy: 0.0982\n",
      "Iteration: 90, Accuracy: 0.0982\n",
      "Iteration: 100, Accuracy: 0.0982\n",
      "Iteration: 110, Accuracy: 0.0982\n",
      "Iteration: 120, Accuracy: 0.0982\n",
      "Iteration: 130, Accuracy: 0.0982\n",
      "Iteration: 140, Accuracy: 0.0982\n",
      "Iteration: 150, Accuracy: 0.0982\n",
      "Iteration: 160, Accuracy: 0.0982\n",
      "Iteration: 170, Accuracy: 0.0982\n",
      "Iteration: 180, Accuracy: 0.0982\n",
      "Iteration: 190, Accuracy: 0.0982\n",
      "Iteration: 200, Accuracy: 0.0982\n",
      "Iteration: 210, Accuracy: 0.0982\n",
      "Iteration: 220, Accuracy: 0.0982\n",
      "Iteration: 230, Accuracy: 0.0982\n",
      "Iteration: 240, Accuracy: 0.0982\n",
      "Iteration: 250, Accuracy: 0.0982\n",
      "Iteration: 260, Accuracy: 0.0982\n",
      "Iteration: 270, Accuracy: 0.0982\n",
      "Iteration: 280, Accuracy: 0.0982\n",
      "Iteration: 290, Accuracy: 0.0982\n",
      "Iteration: 300, Accuracy: 0.0982\n",
      "Iteration: 310, Accuracy: 0.0982\n",
      "Iteration: 320, Accuracy: 0.0982\n",
      "Iteration: 330, Accuracy: 0.0982\n",
      "Iteration: 340, Accuracy: 0.0982\n",
      "Iteration: 350, Accuracy: 0.0982\n",
      "Iteration: 360, Accuracy: 0.0982\n",
      "Iteration: 370, Accuracy: 0.0982\n",
      "Iteration: 380, Accuracy: 0.0982\n",
      "Iteration: 390, Accuracy: 0.0982\n",
      "Iteration: 400, Accuracy: 0.0982\n",
      "Iteration: 410, Accuracy: 0.0982\n",
      "Iteration: 420, Accuracy: 0.0982\n",
      "Iteration: 430, Accuracy: 0.0982\n",
      "Iteration: 440, Accuracy: 0.0982\n",
      "Iteration: 450, Accuracy: 0.0982\n",
      "Iteration: 460, Accuracy: 0.0982\n",
      "Iteration: 470, Accuracy: 0.0982\n",
      "Iteration: 480, Accuracy: 0.0982\n",
      "Iteration: 490, Accuracy: 0.0982\n",
      "Iteration: 500, Accuracy: 0.0982\n",
      "Iteration: 510, Accuracy: 0.0982\n",
      "Iteration: 520, Accuracy: 0.0982\n",
      "Iteration: 530, Accuracy: 0.0982\n",
      "Iteration: 540, Accuracy: 0.0982\n",
      "Iteration: 550, Accuracy: 0.0982\n",
      "Iteration: 560, Accuracy: 0.0982\n",
      "Iteration: 570, Accuracy: 0.0982\n",
      "Iteration: 580, Accuracy: 0.0982\n",
      "Iteration: 590, Accuracy: 0.0982\n",
      "Iteration: 600, Accuracy: 0.0982\n",
      "Iteration: 610, Accuracy: 0.0982\n",
      "Iteration: 620, Accuracy: 0.0982\n",
      "Iteration: 630, Accuracy: 0.0982\n",
      "Iteration: 640, Accuracy: 0.0982\n",
      "Iteration: 650, Accuracy: 0.0982\n",
      "Iteration: 660, Accuracy: 0.0982\n",
      "Iteration: 670, Accuracy: 0.0982\n",
      "Iteration: 680, Accuracy: 0.0982\n",
      "Iteration: 690, Accuracy: 0.0982\n",
      "Iteration: 700, Accuracy: 0.0982\n",
      "Iteration: 710, Accuracy: 0.0982\n",
      "Iteration: 720, Accuracy: 0.0982\n",
      "Iteration: 730, Accuracy: 0.0982\n",
      "Iteration: 740, Accuracy: 0.0982\n",
      "Iteration: 750, Accuracy: 0.0982\n",
      "Iteration: 760, Accuracy: 0.0982\n",
      "Iteration: 770, Accuracy: 0.0982\n",
      "Iteration: 780, Accuracy: 0.0982\n",
      "Iteration: 790, Accuracy: 0.0982\n",
      "Iteration: 800, Accuracy: 0.0982\n",
      "Iteration: 810, Accuracy: 0.0982\n",
      "Iteration: 820, Accuracy: 0.0982\n",
      "Iteration: 830, Accuracy: 0.0982\n",
      "Iteration: 840, Accuracy: 0.0982\n",
      "Iteration: 850, Accuracy: 0.0982\n",
      "Iteration: 860, Accuracy: 0.0982\n",
      "Iteration: 870, Accuracy: 0.0982\n",
      "Iteration: 880, Accuracy: 0.0982\n",
      "Iteration: 890, Accuracy: 0.0982\n",
      "Iteration: 900, Accuracy: 0.0982\n",
      "Iteration: 910, Accuracy: 0.0982\n",
      "Iteration: 920, Accuracy: 0.0982\n",
      "Iteration: 930, Accuracy: 0.0982\n",
      "Iteration: 940, Accuracy: 0.0982\n",
      "Iteration: 950, Accuracy: 0.0982\n",
      "Iteration: 960, Accuracy: 0.0982\n",
      "Iteration: 970, Accuracy: 0.0982\n",
      "Iteration: 980, Accuracy: 0.0982\n",
      "Iteration: 990, Accuracy: 0.0982\n"
     ]
    }
   ],
   "source": [
    "def gradient_descent(X, Y, iterations, alpha):\n",
    "    W1, b1, W2, b2 = init_params()\n",
    "    for i in range(iterations):\n",
    "        Z1, A1, Z2, A2 = forward_prop(W1, b1, W2, b2, X)\n",
    "        dW1, db1, dW2, db2 = back_prop(Z1, A1, Z2, A2, W2, X, Y)\n",
    "        W1, b1, W2, b2 = update_params(W1, b1, W2, b2, dW1, db1, dW2, db2, alpha)\n",
    "        if (i % 10 == 0):\n",
    "            predictions = get_predictions(A2)\n",
    "            accuracy = get_accuracy(predictions, Y)\n",
    "            print(f'Iteration: {i}, Accuracy: {accuracy:.4f}')\n",
    "\n",
    "    return W1, b1, W2, b2\n",
    "\n",
    "# Increase the number of iterations and adjust the learning rate as needed\n",
    "W1, b1, W2, b2 = gradient_descent(X_train, Y_train, 1000, 0.01)"
   ]
  },
  {
   "cell_type": "code",
   "execution_count": null,
   "id": "20d0f29d",
   "metadata": {},
   "outputs": [],
   "source": []
  }
 ],
 "metadata": {
  "kernelspec": {
   "display_name": "Python 3 (ipykernel)",
   "language": "python",
   "name": "python3"
  },
  "language_info": {
   "codemirror_mode": {
    "name": "ipython",
    "version": 3
   },
   "file_extension": ".py",
   "mimetype": "text/x-python",
   "name": "python",
   "nbconvert_exporter": "python",
   "pygments_lexer": "ipython3",
   "version": "3.9.13"
  }
 },
 "nbformat": 4,
 "nbformat_minor": 5
}
