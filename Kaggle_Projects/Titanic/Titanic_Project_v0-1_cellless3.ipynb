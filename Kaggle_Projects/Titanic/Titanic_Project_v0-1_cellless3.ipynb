{
 "cells": [
  {
   "cell_type": "code",
   "execution_count": 11,
   "id": "b1a528cb",
   "metadata": {},
   "outputs": [],
   "source": [
    "import numpy as np\n",
    "import pandas as pd\n",
    "import matplotlib.pyplot as plt\n",
    "import matplotlib.pyplot as plt\n",
    "\n",
    "from scipy import stats\n",
    "from tensorflow import keras\n",
    "from tensorflow.keras import layers\n",
    "from tensorflow.keras.models import Sequential\n",
    "from tensorflow.keras.layers import Dense\n",
    "from keras.callbacks import EarlyStopping\n",
    "from tensorflow.keras.layers import Dropout"
   ]
  },
  {
   "cell_type": "code",
   "execution_count": 12,
   "id": "a5c83a73",
   "metadata": {},
   "outputs": [],
   "source": [
    "path_train = \"https://raw.githubusercontent.com/codehaku/Machine_Learning/main/Titanic/train.csv\"\n",
    "path_test = \"https://raw.githubusercontent.com/codehaku/Machine_Learning/main/Titanic/test.csv\"\n",
    "dataframe0 = pd.read_csv(path_train)\n",
    "dataframe1 = pd.read_csv(path_test)\n",
    "\n",
    "# Set the maximum number of rows and columns to be displayed\n",
    "pd.set_option('display.max_rows', None)\n",
    "pd.set_option('display.max_columns', None)\n",
    "\n",
    "# Display the full DataFrame\n",
    "pd.options.display.width = 1000\n",
    "\n",
    "#print(dataframe0.head(100))"
   ]
  },
  {
   "cell_type": "code",
   "execution_count": 13,
   "id": "c3a473ab",
   "metadata": {},
   "outputs": [],
   "source": [
    "# Select only the numerical columns in the dataframe0\n",
    "numerical_columns = dataframe0.select_dtypes(include=[np.number]).columns.tolist()\n",
    "\n",
    "dataframe0 = dataframe0.drop(['Cabin', 'Name', 'Ticket', 'Embarked'], axis=1)\n",
    "dataframe0['Sex'] = dataframe0['Sex'].replace(['male','female'],[1,0])\n",
    "\n",
    "mean_age = dataframe0['Age'].mean()\n",
    "#print(mean_age)\n",
    "dataframe0['Age'].fillna(mean_age, inplace=True)\n",
    "#print(dataframe0.head(100))\n",
    "\n",
    "# Perform one-hot encoding on the Pclass column\n",
    "pclass_encoded = pd.get_dummies(dataframe0['Pclass'], prefix='class')\n",
    "dataframe0 = pd.concat([dataframe0, pclass_encoded], axis=1)\n",
    "dataframe0 = dataframe0.drop(['Pclass'], axis=1)\n",
    "#print(dataframe0.head(100))\n",
    "\n",
    "# Perform binary encoding on the SibSp and Parch columns\n",
    "dataframe0['SibSp_binary'] = dataframe0['SibSp'].apply(lambda x: 1 if x > 0 else 0)\n",
    "dataframe0['Parch_binary'] = dataframe0['Parch'].apply(lambda x: 1 if x > 0 else 0)\n",
    "dataframe0 = dataframe0.drop(['SibSp', 'Parch'], axis=1)\n",
    "#print(dataframe0.head(10))"
   ]
  },
  {
   "cell_type": "code",
   "execution_count": 14,
   "id": "6455ce4b",
   "metadata": {},
   "outputs": [
    {
     "name": "stdout",
     "output_type": "stream",
     "text": [
      "Epoch 1/200\n",
      "18/18 [==============================] - 1s 17ms/step - loss: 5.5238 - accuracy: 0.6140 - val_loss: 4.8708 - val_accuracy: 0.6364\n",
      "Epoch 2/200\n",
      "18/18 [==============================] - 0s 6ms/step - loss: 3.7375 - accuracy: 0.5702 - val_loss: 3.1726 - val_accuracy: 0.6364\n",
      "Epoch 3/200\n",
      "18/18 [==============================] - 0s 5ms/step - loss: 2.8039 - accuracy: 0.5333 - val_loss: 1.8701 - val_accuracy: 0.6364\n",
      "Epoch 4/200\n",
      "18/18 [==============================] - 0s 5ms/step - loss: 1.8811 - accuracy: 0.5193 - val_loss: 0.9018 - val_accuracy: 0.5734\n",
      "Epoch 5/200\n",
      "18/18 [==============================] - 0s 5ms/step - loss: 1.3572 - accuracy: 0.5579 - val_loss: 0.6968 - val_accuracy: 0.6014\n",
      "Epoch 6/200\n",
      "18/18 [==============================] - 0s 5ms/step - loss: 1.4066 - accuracy: 0.5193 - val_loss: 0.7788 - val_accuracy: 0.6154\n",
      "Epoch 7/200\n",
      "18/18 [==============================] - 0s 6ms/step - loss: 1.4562 - accuracy: 0.5719 - val_loss: 0.8125 - val_accuracy: 0.6294\n",
      "Epoch 8/200\n",
      "18/18 [==============================] - 0s 5ms/step - loss: 1.3771 - accuracy: 0.5842 - val_loss: 0.8652 - val_accuracy: 0.6294\n",
      "Epoch 9/200\n",
      "18/18 [==============================] - 0s 5ms/step - loss: 1.2122 - accuracy: 0.5561 - val_loss: 0.7806 - val_accuracy: 0.6294\n",
      "Epoch 10/200\n",
      "18/18 [==============================] - 0s 4ms/step - loss: 1.1408 - accuracy: 0.5965 - val_loss: 0.8384 - val_accuracy: 0.6154\n",
      "Epoch 11/200\n",
      "18/18 [==============================] - 0s 4ms/step - loss: 1.2726 - accuracy: 0.6228 - val_loss: 0.8014 - val_accuracy: 0.6294\n",
      "Epoch 12/200\n",
      "18/18 [==============================] - 0s 4ms/step - loss: 1.3064 - accuracy: 0.5789 - val_loss: 0.8476 - val_accuracy: 0.6224\n",
      "Epoch 13/200\n",
      "18/18 [==============================] - 0s 4ms/step - loss: 1.2328 - accuracy: 0.5561 - val_loss: 0.8530 - val_accuracy: 0.6294\n",
      "Epoch 14/200\n",
      "18/18 [==============================] - 0s 4ms/step - loss: 1.0844 - accuracy: 0.5667 - val_loss: 0.8376 - val_accuracy: 0.6993\n",
      "Epoch 15/200\n",
      "18/18 [==============================] - 0s 4ms/step - loss: 1.0744 - accuracy: 0.6070 - val_loss: 0.7470 - val_accuracy: 0.6643\n",
      "23/23 [==============================] - 0s 2ms/step - loss: 0.6765 - accuracy: 0.6957\n",
      "Test Loss Train: [0.6764898896217346, 0.695652186870575]\n",
      "6/6 [==============================] - 0s 2ms/step - loss: 0.7042 - accuracy: 0.5955\n",
      "Test Loss Test: [0.7042099833488464, 0.5955055952072144]\n"
     ]
    }
   ],
   "source": [
    "# split training and testing data\n",
    "\n",
    "train_data = dataframe0.sample(frac=0.8, random_state=0)\n",
    "test_data = dataframe0.drop(train_data.index)\n",
    "\n",
    "# training i/p o/p and testing i/p o/p\n",
    "\n",
    "train_input = train_data[['Sex', 'Age', 'Fare', 'class_1','class_2', 'class_3', 'SibSp_binary', 'Parch_binary']]\n",
    "train_output = train_data[['Survived']]\n",
    "\n",
    "test_input = test_data[['Sex', 'Age', 'Fare', 'class_1','class_2', 'class_3', 'SibSp_binary', 'Parch_binary']]\n",
    "test_output = test_data[['Survived']]\n",
    "\n",
    "# Define the model architecture\n",
    "model = Sequential()\n",
    "model.add(Dense(16, input_shape=(8,), activation='relu'))\n",
    "model.add(Dropout(0.2))\n",
    "model.add(Dense(8, activation='relu'))\n",
    "model.add(Dropout(0.2))\n",
    "model.add(Dense(1, activation='sigmoid'))\n",
    "\n",
    "# Compile the model\n",
    "model.compile(optimizer='adam', loss='binary_crossentropy', metrics=['accuracy']) # binary_crossentropy\n",
    "early_stopping = EarlyStopping(monitor='val_loss', patience=10)\n",
    "model.fit(train_input, train_output, validation_split=0.2, epochs=200, batch_size=32, callbacks=[early_stopping])\n",
    "\n",
    "test_loss_train = model.evaluate(train_input, train_output)\n",
    "print(\"Test Loss Train:\", test_loss_train)\n",
    "\n",
    "test_loss_test = model.evaluate(test_input, test_output)\n",
    "print(\"Test Loss Test:\", test_loss_test)"
   ]
  },
  {
   "cell_type": "code",
   "execution_count": 15,
   "id": "52d4642f",
   "metadata": {},
   "outputs": [],
   "source": [
    "dataframe1 = dataframe1.drop(['Cabin', 'Name', 'Ticket', 'Embarked'], axis=1)\n",
    "dataframe1['Sex'] = dataframe1['Sex'].replace(['male','female'],[1,0])\n",
    "\n",
    "mean_fare = dataframe1['Fare'].mean()\n",
    "dataframe1['Fare'].fillna(mean_fare, inplace=True)\n",
    "\n",
    "mean_age = dataframe1['Age'].mean()\n",
    "dataframe1['Age'].fillna(mean_age, inplace=True)\n",
    "\n",
    "# Perform one-hot encoding on the Pclass column\n",
    "pclass_encoded = pd.get_dummies(dataframe1['Pclass'], prefix='class')\n",
    "dataframe1 = pd.concat([dataframe1, pclass_encoded], axis=1)\n",
    "dataframe1 = dataframe1.drop(['Pclass'], axis=1)\n",
    "#print(dataframe1.head())\n",
    "\n",
    "# Perform binary encoding on the SibSp and Parch columns\n",
    "dataframe1['SibSp_binary'] = dataframe1['SibSp'].apply(lambda x: 1 if x > 0 else 0)\n",
    "dataframe1['Parch_binary'] = dataframe1['Parch'].apply(lambda x: 1 if x > 0 else 0)\n",
    "dataframe1 = dataframe1.drop(['SibSp', 'Parch'], axis=1)\n",
    "#print(dataframe1.head())"
   ]
  },
  {
   "cell_type": "code",
   "execution_count": 16,
   "id": "8f8a7fbf",
   "metadata": {},
   "outputs": [
    {
     "name": "stdout",
     "output_type": "stream",
     "text": [
      "14/14 [==============================] - 0s 2ms/step\n",
      "14/14 [==============================] - 0s 2ms/step\n"
     ]
    }
   ],
   "source": [
    "test_ext_data = dataframe1\n",
    "\n",
    "test_ext_input = test_ext_data[['Sex', 'Age', 'Fare', 'class_1','class_2', 'class_3', 'SibSp_binary', 'Parch_binary']]\n",
    "\n",
    "# Get predictions for test data\n",
    "test_predictions = model.predict(test_ext_input)\n",
    "\n",
    "# Add predictions to the test dataframe\n",
    "dataframe1['Survival Prediction'] = test_predictions.flatten()\n",
    "\n",
    "predictions = np.round(model.predict(test_ext_input)).astype(int)\n",
    "\n",
    "# Display the updated dataframe\n",
    "#print(dataframe1.head(500))"
   ]
  },
  {
   "cell_type": "code",
   "execution_count": 17,
   "id": "238111c5",
   "metadata": {},
   "outputs": [
    {
     "name": "stdout",
     "output_type": "stream",
     "text": [
      "14/14 [==============================] - 0s 2ms/step\n",
      "   PassengerId  Sex   Age     Fare  class_1  class_2  class_3  SibSp_binary  Parch_binary  Survival Prediction  Survived\n",
      "0          892    1  34.5   7.8292        0        0        1             0             0             0.249870         0\n",
      "1          893    0  47.0   7.0000        0        0        1             1             0             0.180103         0\n",
      "2          894    1  62.0   9.6875        0        1        0             0             0             0.090921         0\n",
      "3          895    1  27.0   8.6625        0        0        1             0             0             0.335535         0\n",
      "4          896    0  22.0  12.2875        0        0        1             1             1             0.454303         0\n"
     ]
    }
   ],
   "source": [
    "predictions = model.predict(test_ext_input)\n",
    "predictions = np.round(predictions).astype(int)\n",
    "dataframe1['Survived'] = predictions\n",
    "print(dataframe1.head())"
   ]
  },
  {
   "cell_type": "code",
   "execution_count": 18,
   "id": "c9f890c2",
   "metadata": {},
   "outputs": [],
   "source": [
    "#display(dataframe1[['PassengerId', 'Survived']])"
   ]
  },
  {
   "cell_type": "code",
   "execution_count": 19,
   "id": "a0bf56ca",
   "metadata": {},
   "outputs": [],
   "source": [
    "# create a new DataFrame with only the PassengerId and Survived columns\n",
    "output_dataframe1 = dataframe1[['PassengerId', 'Survived']]\n",
    "\n",
    "# save the DataFrame to a CSV file\n",
    "output_dataframe1.to_csv('output7.csv', index=False)"
   ]
  },
  {
   "cell_type": "code",
   "execution_count": 20,
   "id": "9a454298",
   "metadata": {},
   "outputs": [
    {
     "name": "stdout",
     "output_type": "stream",
     "text": [
      "F:\\Work\\Code\\Projects\\multipara\\multipara-jupyter-notebook\\Kaggle_Projects\\Titanic\n"
     ]
    }
   ],
   "source": [
    "import os\n",
    "print(os.getcwd())"
   ]
  },
  {
   "cell_type": "code",
   "execution_count": null,
   "id": "fb95a05f",
   "metadata": {},
   "outputs": [],
   "source": []
  },
  {
   "cell_type": "code",
   "execution_count": null,
   "id": "c9833059",
   "metadata": {},
   "outputs": [],
   "source": []
  }
 ],
 "metadata": {
  "kernelspec": {
   "display_name": "Python 3 (ipykernel)",
   "language": "python",
   "name": "python3"
  },
  "language_info": {
   "codemirror_mode": {
    "name": "ipython",
    "version": 3
   },
   "file_extension": ".py",
   "mimetype": "text/x-python",
   "name": "python",
   "nbconvert_exporter": "python",
   "pygments_lexer": "ipython3",
   "version": "3.9.13"
  }
 },
 "nbformat": 4,
 "nbformat_minor": 5
}
