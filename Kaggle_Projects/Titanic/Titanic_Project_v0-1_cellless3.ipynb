{
 "cells": [
  {
   "cell_type": "code",
   "execution_count": 2,
   "id": "b1a528cb",
   "metadata": {},
   "outputs": [
    {
     "ename": "ModuleNotFoundError",
     "evalue": "No module named 'tensorflow'",
     "output_type": "error",
     "traceback": [
      "\u001b[1;31m---------------------------------------------------------------------------\u001b[0m",
      "\u001b[1;31mModuleNotFoundError\u001b[0m                       Traceback (most recent call last)",
      "Cell \u001b[1;32mIn[2], line 7\u001b[0m\n\u001b[0;32m      4\u001b[0m \u001b[38;5;28;01mimport\u001b[39;00m \u001b[38;5;21;01mmatplotlib\u001b[39;00m\u001b[38;5;21;01m.\u001b[39;00m\u001b[38;5;21;01mpyplot\u001b[39;00m \u001b[38;5;28;01mas\u001b[39;00m \u001b[38;5;21;01mplt\u001b[39;00m\n\u001b[0;32m      6\u001b[0m \u001b[38;5;28;01mfrom\u001b[39;00m \u001b[38;5;21;01mscipy\u001b[39;00m \u001b[38;5;28;01mimport\u001b[39;00m stats\n\u001b[1;32m----> 7\u001b[0m \u001b[38;5;28;01mfrom\u001b[39;00m \u001b[38;5;21;01mtensorflow\u001b[39;00m \u001b[38;5;28;01mimport\u001b[39;00m keras\n\u001b[0;32m      8\u001b[0m \u001b[38;5;28;01mfrom\u001b[39;00m \u001b[38;5;21;01mtensorflow\u001b[39;00m\u001b[38;5;21;01m.\u001b[39;00m\u001b[38;5;21;01mkeras\u001b[39;00m \u001b[38;5;28;01mimport\u001b[39;00m layers\n\u001b[0;32m      9\u001b[0m \u001b[38;5;28;01mfrom\u001b[39;00m \u001b[38;5;21;01mtensorflow\u001b[39;00m\u001b[38;5;21;01m.\u001b[39;00m\u001b[38;5;21;01mkeras\u001b[39;00m\u001b[38;5;21;01m.\u001b[39;00m\u001b[38;5;21;01mmodels\u001b[39;00m \u001b[38;5;28;01mimport\u001b[39;00m Sequential\n",
      "\u001b[1;31mModuleNotFoundError\u001b[0m: No module named 'tensorflow'"
     ]
    }
   ],
   "source": [
    "import numpy as np\n",
    "import pandas as pd\n",
    "import matplotlib.pyplot as plt\n",
    "import matplotlib.pyplot as plt\n",
    "\n",
    "from scipy import stats\n",
    "from tensorflow import keras\n",
    "from tensorflow.keras import layers\n",
    "from tensorflow.keras.models import Sequential\n",
    "from tensorflow.keras.layers import Dense\n",
    "from keras.callbacks import EarlyStopping\n",
    "from tensorflow.keras.layers import Dropout"
   ]
  },
  {
   "cell_type": "code",
   "execution_count": null,
   "id": "a5c83a73",
   "metadata": {},
   "outputs": [],
   "source": [
    "path_train = \"https://raw.githubusercontent.com/codehaku/Machine_Learning/main/Titanic/train.csv\"\n",
    "path_test = \"https://raw.githubusercontent.com/codehaku/Machine_Learning/main/Titanic/test.csv\"\n",
    "dataframe0 = pd.read_csv(path_train)\n",
    "dataframe1 = pd.read_csv(path_test)\n",
    "\n",
    "# Set the maximum number of rows and columns to be displayed\n",
    "pd.set_option('display.max_rows', None)\n",
    "pd.set_option('display.max_columns', None)\n",
    "\n",
    "# Display the full DataFrame\n",
    "pd.options.display.width = 1000\n",
    "\n",
    "#print(dataframe0.head(100))"
   ]
  },
  {
   "cell_type": "code",
   "execution_count": null,
   "id": "c3a473ab",
   "metadata": {},
   "outputs": [],
   "source": [
    "# Select only the numerical columns in the dataframe0\n",
    "numerical_columns = dataframe0.select_dtypes(include=[np.number]).columns.tolist()\n",
    "\n",
    "dataframe0 = dataframe0.drop(['Cabin', 'Name', 'Ticket', 'Embarked'], axis=1)\n",
    "dataframe0['Sex'] = dataframe0['Sex'].replace(['male','female'],[1,0])\n",
    "\n",
    "mean_age = dataframe0['Age'].mean()\n",
    "#print(mean_age)\n",
    "dataframe0['Age'].fillna(mean_age, inplace=True)\n",
    "#print(dataframe0.head(100))\n",
    "\n",
    "# Perform one-hot encoding on the Pclass column\n",
    "pclass_encoded = pd.get_dummies(dataframe0['Pclass'], prefix='class')\n",
    "dataframe0 = pd.concat([dataframe0, pclass_encoded], axis=1)\n",
    "dataframe0 = dataframe0.drop(['Pclass'], axis=1)\n",
    "#print(dataframe0.head(100))\n",
    "\n",
    "# Perform binary encoding on the SibSp and Parch columns\n",
    "dataframe0['SibSp_binary'] = dataframe0['SibSp'].apply(lambda x: 1 if x > 0 else 0)\n",
    "dataframe0['Parch_binary'] = dataframe0['Parch'].apply(lambda x: 1 if x > 0 else 0)\n",
    "dataframe0 = dataframe0.drop(['SibSp', 'Parch'], axis=1)\n",
    "#print(dataframe0.head(10))"
   ]
  },
  {
   "cell_type": "code",
   "execution_count": null,
   "id": "6455ce4b",
   "metadata": {},
   "outputs": [],
   "source": [
    "# split training and testing data\n",
    "\n",
    "train_data = dataframe0.sample(frac=0.8, random_state=0)\n",
    "test_data = dataframe0.drop(train_data.index)\n",
    "\n",
    "# training i/p o/p and testing i/p o/p\n",
    "\n",
    "train_input = train_data[['Sex', 'Age', 'Fare', 'class_1','class_2', 'class_3', 'SibSp_binary', 'Parch_binary']]\n",
    "train_output = train_data[['Survived']]\n",
    "\n",
    "test_input = test_data[['Sex', 'Age', 'Fare', 'class_1','class_2', 'class_3', 'SibSp_binary', 'Parch_binary']]\n",
    "test_output = test_data[['Survived']]\n",
    "\n",
    "# Define the model architecture\n",
    "model = Sequential()\n",
    "model.add(Dense(16, input_shape=(8,), activation='relu'))\n",
    "model.add(Dropout(0.2))\n",
    "model.add(Dense(8, activation='relu'))\n",
    "model.add(Dropout(0.2))\n",
    "model.add(Dense(1, activation='sigmoid'))\n",
    "\n",
    "# Compile the model\n",
    "model.compile(optimizer='adam', loss='binary_crossentropy', metrics=['accuracy']) # binary_crossentropy\n",
    "early_stopping = EarlyStopping(monitor='val_loss', patience=10)\n",
    "model.fit(train_input, train_output, validation_split=0.1, epochs=90, batch_size=8, callbacks=[early_stopping])\n",
    "\n",
    "test_loss_train = model.evaluate(train_input, train_output)\n",
    "print(\"Test Loss Train:\", test_loss_train)\n",
    "\n",
    "test_loss_test = model.evaluate(test_input, test_output)\n",
    "print(\"Test Loss Test:\", test_loss_test)"
   ]
  },
  {
   "cell_type": "code",
   "execution_count": null,
   "id": "52d4642f",
   "metadata": {},
   "outputs": [],
   "source": [
    "dataframe1 = dataframe1.drop(['Cabin', 'Name', 'Ticket', 'Embarked'], axis=1)\n",
    "dataframe1['Sex'] = dataframe1['Sex'].replace(['male','female'],[1,0])\n",
    "\n",
    "mean_fare = dataframe1['Fare'].mean()\n",
    "dataframe1['Fare'].fillna(mean_fare, inplace=True)\n",
    "\n",
    "mean_age = dataframe1['Age'].mean()\n",
    "dataframe1['Age'].fillna(mean_age, inplace=True)\n",
    "\n",
    "# Perform one-hot encoding on the Pclass column\n",
    "pclass_encoded = pd.get_dummies(dataframe1['Pclass'], prefix='class')\n",
    "dataframe1 = pd.concat([dataframe1, pclass_encoded], axis=1)\n",
    "dataframe1 = dataframe1.drop(['Pclass'], axis=1)\n",
    "#print(dataframe1.head())\n",
    "\n",
    "# Perform binary encoding on the SibSp and Parch columns\n",
    "dataframe1['SibSp_binary'] = dataframe1['SibSp'].apply(lambda x: 1 if x > 0 else 0)\n",
    "dataframe1['Parch_binary'] = dataframe1['Parch'].apply(lambda x: 1 if x > 0 else 0)\n",
    "dataframe1 = dataframe1.drop(['SibSp', 'Parch'], axis=1)\n",
    "#print(dataframe1.head())"
   ]
  },
  {
   "cell_type": "code",
   "execution_count": null,
   "id": "8f8a7fbf",
   "metadata": {},
   "outputs": [],
   "source": [
    "test_ext_data = dataframe1\n",
    "\n",
    "test_ext_input = test_ext_data[['Sex', 'Age', 'Fare', 'class_1','class_2', 'class_3', 'SibSp_binary', 'Parch_binary']]\n",
    "\n",
    "# Get predictions for test data\n",
    "test_predictions = model.predict(test_ext_input)\n",
    "\n",
    "# Add predictions to the test dataframe\n",
    "dataframe1['Survival Prediction'] = test_predictions.flatten()\n",
    "\n",
    "predictions = np.round(model.predict(test_ext_input)).astype(int)\n",
    "\n",
    "# Display the updated dataframe\n",
    "#print(dataframe1.head(500))"
   ]
  },
  {
   "cell_type": "code",
   "execution_count": null,
   "id": "238111c5",
   "metadata": {},
   "outputs": [],
   "source": [
    "predictions = model.predict(test_ext_input)\n",
    "predictions = np.round(predictions).astype(int)\n",
    "dataframe1['Survived'] = predictions\n",
    "print(dataframe1.head())"
   ]
  },
  {
   "cell_type": "code",
   "execution_count": null,
   "id": "c9f890c2",
   "metadata": {},
   "outputs": [],
   "source": [
    "#display(dataframe1[['PassengerId', 'Survived']])"
   ]
  },
  {
   "cell_type": "code",
   "execution_count": null,
   "id": "a0bf56ca",
   "metadata": {},
   "outputs": [],
   "source": [
    "# create a new DataFrame with only the PassengerId and Survived columns\n",
    "output_dataframe1 = dataframe1[['PassengerId', 'Survived']]\n",
    "\n",
    "# save the DataFrame to a CSV file\n",
    "output_dataframe1.to_csv('output8.csv', index=False)"
   ]
  },
  {
   "cell_type": "code",
   "execution_count": null,
   "id": "9a454298",
   "metadata": {},
   "outputs": [],
   "source": [
    "import os\n",
    "print(os.getcwd())"
   ]
  },
  {
   "cell_type": "code",
   "execution_count": null,
   "id": "fb95a05f",
   "metadata": {},
   "outputs": [],
   "source": []
  },
  {
   "cell_type": "code",
   "execution_count": null,
   "id": "c9833059",
   "metadata": {},
   "outputs": [],
   "source": []
  }
 ],
 "metadata": {
  "kernelspec": {
   "display_name": "Python 3 (ipykernel)",
   "language": "python",
   "name": "python3"
  },
  "language_info": {
   "codemirror_mode": {
    "name": "ipython",
    "version": 3
   },
   "file_extension": ".py",
   "mimetype": "text/x-python",
   "name": "python",
   "nbconvert_exporter": "python",
   "pygments_lexer": "ipython3",
   "version": "3.11.5"
  }
 },
 "nbformat": 4,
 "nbformat_minor": 5
}
