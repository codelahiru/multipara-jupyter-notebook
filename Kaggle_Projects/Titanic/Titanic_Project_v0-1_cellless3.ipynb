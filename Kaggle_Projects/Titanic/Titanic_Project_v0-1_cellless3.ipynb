{
 "cells": [
  {
   "cell_type": "code",
   "execution_count": 1,
   "id": "b1a528cb",
   "metadata": {},
   "outputs": [],
   "source": [
    "import numpy as np\n",
    "import pandas as pd\n",
    "import matplotlib.pyplot as plt\n",
    "import matplotlib.pyplot as plt\n",
    "\n",
    "from scipy import stats\n",
    "from tensorflow import keras\n",
    "from tensorflow.keras import layers\n",
    "from tensorflow.keras.models import Sequential\n",
    "from tensorflow.keras.layers import Dense\n",
    "from keras.callbacks import EarlyStopping\n",
    "from tensorflow.keras.layers import Dropout"
   ]
  },
  {
   "cell_type": "code",
   "execution_count": 2,
   "id": "a5c83a73",
   "metadata": {},
   "outputs": [],
   "source": [
    "path_train = \"https://raw.githubusercontent.com/codehaku/Machine_Learning/main/Titanic/train.csv\"\n",
    "path_test = \"https://raw.githubusercontent.com/codehaku/Machine_Learning/main/Titanic/test.csv\"\n",
    "dataframe0 = pd.read_csv(path_train)\n",
    "dataframe1 = pd.read_csv(path_test)\n",
    "\n",
    "# Set the maximum number of rows and columns to be displayed\n",
    "pd.set_option('display.max_rows', None)\n",
    "pd.set_option('display.max_columns', None)\n",
    "\n",
    "# Display the full DataFrame\n",
    "pd.options.display.width = 1000\n",
    "\n",
    "#print(dataframe0.head(100))"
   ]
  },
  {
   "cell_type": "code",
   "execution_count": 3,
   "id": "c3a473ab",
   "metadata": {},
   "outputs": [],
   "source": [
    "# Select only the numerical columns in the dataframe0\n",
    "numerical_columns = dataframe0.select_dtypes(include=[np.number]).columns.tolist()\n",
    "\n",
    "dataframe0 = dataframe0.drop(['Cabin', 'Name', 'Ticket', 'Embarked'], axis=1)\n",
    "dataframe0['Sex'] = dataframe0['Sex'].replace(['male','female'],[1,0])\n",
    "\n",
    "mean_age = dataframe0['Age'].mean()\n",
    "#print(mean_age)\n",
    "dataframe0['Age'].fillna(mean_age, inplace=True)\n",
    "#print(dataframe0.head(100))\n",
    "\n",
    "# Perform one-hot encoding on the Pclass column\n",
    "pclass_encoded = pd.get_dummies(dataframe0['Pclass'], prefix='class')\n",
    "dataframe0 = pd.concat([dataframe0, pclass_encoded], axis=1)\n",
    "dataframe0 = dataframe0.drop(['Pclass'], axis=1)\n",
    "#print(dataframe0.head(100))\n",
    "\n",
    "# Perform binary encoding on the SibSp and Parch columns\n",
    "dataframe0['SibSp_binary'] = dataframe0['SibSp'].apply(lambda x: 1 if x > 0 else 0)\n",
    "dataframe0['Parch_binary'] = dataframe0['Parch'].apply(lambda x: 1 if x > 0 else 0)\n",
    "dataframe0 = dataframe0.drop(['SibSp', 'Parch'], axis=1)\n",
    "#print(dataframe0.head(10))"
   ]
  },
  {
   "cell_type": "code",
   "execution_count": 4,
   "id": "6455ce4b",
   "metadata": {},
   "outputs": [
    {
     "name": "stdout",
     "output_type": "stream",
     "text": [
      "Epoch 1/120\n",
      "36/36 [==============================] - 2s 12ms/step - loss: 2.3785 - accuracy: 0.5281 - val_loss: 1.3048 - val_accuracy: 0.3986\n",
      "Epoch 2/120\n",
      "36/36 [==============================] - 0s 3ms/step - loss: 1.9778 - accuracy: 0.5281 - val_loss: 0.8768 - val_accuracy: 0.3427\n",
      "Epoch 3/120\n",
      "36/36 [==============================] - 0s 3ms/step - loss: 1.5058 - accuracy: 0.4404 - val_loss: 0.7389 - val_accuracy: 0.3706\n",
      "Epoch 4/120\n",
      "36/36 [==============================] - 0s 4ms/step - loss: 1.2698 - accuracy: 0.5421 - val_loss: 0.7794 - val_accuracy: 0.6294\n",
      "Epoch 5/120\n",
      "36/36 [==============================] - 0s 3ms/step - loss: 1.0407 - accuracy: 0.6860 - val_loss: 0.7714 - val_accuracy: 0.6364\n",
      "Epoch 6/120\n",
      "36/36 [==============================] - 0s 3ms/step - loss: 0.9195 - accuracy: 0.6386 - val_loss: 0.7762 - val_accuracy: 0.6364\n",
      "Epoch 7/120\n",
      "36/36 [==============================] - 0s 3ms/step - loss: 0.9780 - accuracy: 0.6474 - val_loss: 0.7401 - val_accuracy: 0.6573\n",
      "Epoch 8/120\n",
      "36/36 [==============================] - 0s 4ms/step - loss: 0.8388 - accuracy: 0.6737 - val_loss: 0.7577 - val_accuracy: 0.6434\n",
      "Epoch 9/120\n",
      "36/36 [==============================] - 0s 4ms/step - loss: 0.7776 - accuracy: 0.6632 - val_loss: 0.7357 - val_accuracy: 0.6573\n",
      "Epoch 10/120\n",
      "36/36 [==============================] - 0s 3ms/step - loss: 0.8400 - accuracy: 0.6561 - val_loss: 0.7043 - val_accuracy: 0.6364\n",
      "Epoch 11/120\n",
      "36/36 [==============================] - 0s 3ms/step - loss: 0.6767 - accuracy: 0.6719 - val_loss: 0.6647 - val_accuracy: 0.6294\n",
      "Epoch 12/120\n",
      "36/36 [==============================] - 0s 3ms/step - loss: 0.8128 - accuracy: 0.6719 - val_loss: 0.6492 - val_accuracy: 0.6294\n",
      "Epoch 13/120\n",
      "36/36 [==============================] - 0s 4ms/step - loss: 0.7333 - accuracy: 0.6754 - val_loss: 0.6462 - val_accuracy: 0.6294\n",
      "Epoch 14/120\n",
      "36/36 [==============================] - 0s 4ms/step - loss: 0.7065 - accuracy: 0.6737 - val_loss: 0.6499 - val_accuracy: 0.6294\n",
      "Epoch 15/120\n",
      "36/36 [==============================] - 0s 4ms/step - loss: 0.6952 - accuracy: 0.6544 - val_loss: 0.6330 - val_accuracy: 0.6364\n",
      "Epoch 16/120\n",
      "36/36 [==============================] - 0s 4ms/step - loss: 0.6846 - accuracy: 0.6439 - val_loss: 0.6203 - val_accuracy: 0.6503\n",
      "Epoch 17/120\n",
      "36/36 [==============================] - 0s 4ms/step - loss: 0.6538 - accuracy: 0.6491 - val_loss: 0.6181 - val_accuracy: 0.6573\n",
      "Epoch 18/120\n",
      "36/36 [==============================] - 0s 3ms/step - loss: 0.6615 - accuracy: 0.6439 - val_loss: 0.6179 - val_accuracy: 0.6573\n",
      "Epoch 19/120\n",
      "36/36 [==============================] - 0s 4ms/step - loss: 0.7216 - accuracy: 0.6439 - val_loss: 0.6177 - val_accuracy: 0.6573\n",
      "Epoch 20/120\n",
      "36/36 [==============================] - 0s 4ms/step - loss: 0.6917 - accuracy: 0.6632 - val_loss: 0.6196 - val_accuracy: 0.6434\n",
      "Epoch 21/120\n",
      "36/36 [==============================] - 0s 4ms/step - loss: 0.7448 - accuracy: 0.6579 - val_loss: 0.6206 - val_accuracy: 0.6434\n",
      "Epoch 22/120\n",
      "36/36 [==============================] - 0s 3ms/step - loss: 0.6690 - accuracy: 0.6491 - val_loss: 0.6170 - val_accuracy: 0.6573\n",
      "Epoch 23/120\n",
      "36/36 [==============================] - 0s 4ms/step - loss: 0.7172 - accuracy: 0.6526 - val_loss: 0.6172 - val_accuracy: 0.6573\n",
      "Epoch 24/120\n",
      "36/36 [==============================] - 0s 4ms/step - loss: 0.6525 - accuracy: 0.6509 - val_loss: 0.6159 - val_accuracy: 0.6573\n",
      "Epoch 25/120\n",
      "36/36 [==============================] - 0s 4ms/step - loss: 0.6428 - accuracy: 0.6491 - val_loss: 0.6138 - val_accuracy: 0.6503\n",
      "Epoch 26/120\n",
      "36/36 [==============================] - 0s 4ms/step - loss: 0.6824 - accuracy: 0.6596 - val_loss: 0.6098 - val_accuracy: 0.6573\n",
      "Epoch 27/120\n",
      "36/36 [==============================] - 0s 4ms/step - loss: 0.6829 - accuracy: 0.6491 - val_loss: 0.6096 - val_accuracy: 0.6573\n",
      "Epoch 28/120\n",
      "36/36 [==============================] - 0s 4ms/step - loss: 0.6097 - accuracy: 0.6579 - val_loss: 0.6091 - val_accuracy: 0.6573\n",
      "Epoch 29/120\n",
      "36/36 [==============================] - 0s 3ms/step - loss: 0.6492 - accuracy: 0.6439 - val_loss: 0.6152 - val_accuracy: 0.6364\n",
      "Epoch 30/120\n",
      "36/36 [==============================] - 0s 3ms/step - loss: 0.6912 - accuracy: 0.6421 - val_loss: 0.6205 - val_accuracy: 0.6294\n",
      "Epoch 31/120\n",
      "36/36 [==============================] - 0s 3ms/step - loss: 0.6407 - accuracy: 0.6386 - val_loss: 0.6202 - val_accuracy: 0.6294\n",
      "Epoch 32/120\n",
      "36/36 [==============================] - 0s 4ms/step - loss: 0.6420 - accuracy: 0.6509 - val_loss: 0.6142 - val_accuracy: 0.6364\n",
      "Epoch 33/120\n",
      "36/36 [==============================] - 0s 3ms/step - loss: 0.6456 - accuracy: 0.6351 - val_loss: 0.6163 - val_accuracy: 0.6364\n",
      "Epoch 34/120\n",
      "36/36 [==============================] - 0s 3ms/step - loss: 0.6667 - accuracy: 0.6456 - val_loss: 0.6132 - val_accuracy: 0.6364\n",
      "Epoch 35/120\n",
      "36/36 [==============================] - 0s 3ms/step - loss: 0.6243 - accuracy: 0.6404 - val_loss: 0.6163 - val_accuracy: 0.6364\n",
      "Epoch 36/120\n",
      "36/36 [==============================] - 0s 4ms/step - loss: 0.6092 - accuracy: 0.6491 - val_loss: 0.6128 - val_accuracy: 0.6364\n",
      "Epoch 37/120\n",
      "36/36 [==============================] - 0s 3ms/step - loss: 0.6388 - accuracy: 0.6491 - val_loss: 0.6179 - val_accuracy: 0.6364\n",
      "Epoch 38/120\n",
      "36/36 [==============================] - 0s 4ms/step - loss: 0.6566 - accuracy: 0.6386 - val_loss: 0.6170 - val_accuracy: 0.6364\n",
      "23/23 [==============================] - 0s 1ms/step - loss: 0.6142 - accuracy: 0.6339\n",
      "Test Loss Train: [0.6141911745071411, 0.633941113948822]\n",
      "6/6 [==============================] - 0s 3ms/step - loss: 0.6536 - accuracy: 0.5506\n",
      "Test Loss Test: [0.6535674333572388, 0.550561785697937]\n"
     ]
    }
   ],
   "source": [
    "# split training and testing data\n",
    "\n",
    "train_data = dataframe0.sample(frac=0.8, random_state=0)\n",
    "test_data = dataframe0.drop(train_data.index)\n",
    "\n",
    "# training i/p o/p and testing i/p o/p\n",
    "\n",
    "train_input = train_data[['Sex', 'Age', 'Fare', 'class_1','class_2', 'class_3', 'SibSp_binary', 'Parch_binary']]\n",
    "train_output = train_data[['Survived']]\n",
    "\n",
    "test_input = test_data[['Sex', 'Age', 'Fare', 'class_1','class_2', 'class_3', 'SibSp_binary', 'Parch_binary']]\n",
    "test_output = test_data[['Survived']]\n",
    "\n",
    "# Define the model architecture\n",
    "model = Sequential()\n",
    "model.add(Dense(16, input_shape=(8,), activation='relu'))\n",
    "model.add(Dropout(0.2))\n",
    "model.add(Dense(8, activation='relu'))\n",
    "model.add(Dropout(0.2))\n",
    "model.add(Dense(1, activation='sigmoid'))\n",
    "\n",
    "# Compile the model\n",
    "model.compile(optimizer='adam', loss='binary_crossentropy', metrics=['accuracy']) # binary_crossentropy\n",
    "early_stopping = EarlyStopping(monitor='val_loss', patience=10)\n",
    "model.fit(train_input, train_output, validation_split=0.2, epochs=120, batch_size=16, callbacks=[early_stopping])\n",
    "\n",
    "test_loss_train = model.evaluate(train_input, train_output)\n",
    "print(\"Test Loss Train:\", test_loss_train)\n",
    "\n",
    "test_loss_test = model.evaluate(test_input, test_output)\n",
    "print(\"Test Loss Test:\", test_loss_test)"
   ]
  },
  {
   "cell_type": "code",
   "execution_count": 5,
   "id": "52d4642f",
   "metadata": {},
   "outputs": [],
   "source": [
    "dataframe1 = dataframe1.drop(['Cabin', 'Name', 'Ticket', 'Embarked'], axis=1)\n",
    "dataframe1['Sex'] = dataframe1['Sex'].replace(['male','female'],[1,0])\n",
    "\n",
    "mean_fare = dataframe1['Fare'].mean()\n",
    "dataframe1['Fare'].fillna(mean_fare, inplace=True)\n",
    "\n",
    "mean_age = dataframe1['Age'].mean()\n",
    "dataframe1['Age'].fillna(mean_age, inplace=True)\n",
    "\n",
    "# Perform one-hot encoding on the Pclass column\n",
    "pclass_encoded = pd.get_dummies(dataframe1['Pclass'], prefix='class')\n",
    "dataframe1 = pd.concat([dataframe1, pclass_encoded], axis=1)\n",
    "dataframe1 = dataframe1.drop(['Pclass'], axis=1)\n",
    "#print(dataframe1.head())\n",
    "\n",
    "# Perform binary encoding on the SibSp and Parch columns\n",
    "dataframe1['SibSp_binary'] = dataframe1['SibSp'].apply(lambda x: 1 if x > 0 else 0)\n",
    "dataframe1['Parch_binary'] = dataframe1['Parch'].apply(lambda x: 1 if x > 0 else 0)\n",
    "dataframe1 = dataframe1.drop(['SibSp', 'Parch'], axis=1)\n",
    "#print(dataframe1.head())"
   ]
  },
  {
   "cell_type": "code",
   "execution_count": 6,
   "id": "8f8a7fbf",
   "metadata": {},
   "outputs": [
    {
     "name": "stdout",
     "output_type": "stream",
     "text": [
      "14/14 [==============================] - 0s 1ms/step\n",
      "14/14 [==============================] - 0s 2ms/step\n"
     ]
    }
   ],
   "source": [
    "test_ext_data = dataframe1\n",
    "\n",
    "test_ext_input = test_ext_data[['Sex', 'Age', 'Fare', 'class_1','class_2', 'class_3', 'SibSp_binary', 'Parch_binary']]\n",
    "\n",
    "# Get predictions for test data\n",
    "test_predictions = model.predict(test_ext_input)\n",
    "\n",
    "# Add predictions to the test dataframe\n",
    "dataframe1['Survival Prediction'] = test_predictions.flatten()\n",
    "\n",
    "predictions = np.round(model.predict(test_ext_input)).astype(int)\n",
    "\n",
    "# Display the updated dataframe\n",
    "#print(dataframe1.head(500))"
   ]
  },
  {
   "cell_type": "code",
   "execution_count": 7,
   "id": "238111c5",
   "metadata": {},
   "outputs": [
    {
     "name": "stdout",
     "output_type": "stream",
     "text": [
      "14/14 [==============================] - 0s 2ms/step\n",
      "   PassengerId  Sex   Age     Fare  class_1  class_2  class_3  SibSp_binary  Parch_binary  Survival Prediction  Survived\n",
      "0          892    1  34.5   7.8292        0        0        1             0             0             0.281021         0\n",
      "1          893    0  47.0   7.0000        0        0        1             1             0             0.235874         0\n",
      "2          894    1  62.0   9.6875        0        1        0             0             0             0.193665         0\n",
      "3          895    1  27.0   8.6625        0        0        1             0             0             0.321801         0\n",
      "4          896    0  22.0  12.2875        0        0        1             1             1             0.387807         0\n"
     ]
    }
   ],
   "source": [
    "predictions = model.predict(test_ext_input)\n",
    "predictions = np.round(predictions).astype(int)\n",
    "dataframe1['Survived'] = predictions\n",
    "print(dataframe1.head())"
   ]
  },
  {
   "cell_type": "code",
   "execution_count": 8,
   "id": "c9f890c2",
   "metadata": {},
   "outputs": [],
   "source": [
    "#display(dataframe1[['PassengerId', 'Survived']])"
   ]
  },
  {
   "cell_type": "code",
   "execution_count": 9,
   "id": "a0bf56ca",
   "metadata": {},
   "outputs": [],
   "source": [
    "# create a new DataFrame with only the PassengerId and Survived columns\n",
    "output_dataframe1 = dataframe1[['PassengerId', 'Survived']]\n",
    "\n",
    "# save the DataFrame to a CSV file\n",
    "output_dataframe1.to_csv('output8.csv', index=False)"
   ]
  },
  {
   "cell_type": "code",
   "execution_count": 10,
   "id": "9a454298",
   "metadata": {},
   "outputs": [
    {
     "name": "stdout",
     "output_type": "stream",
     "text": [
      "F:\\Work\\Code\\Projects\\multipara\\multipara-jupyter-notebook\\Kaggle_Projects\\Titanic\n"
     ]
    }
   ],
   "source": [
    "import os\n",
    "print(os.getcwd())"
   ]
  },
  {
   "cell_type": "code",
   "execution_count": null,
   "id": "fb95a05f",
   "metadata": {},
   "outputs": [],
   "source": []
  },
  {
   "cell_type": "code",
   "execution_count": null,
   "id": "c9833059",
   "metadata": {},
   "outputs": [],
   "source": []
  }
 ],
 "metadata": {
  "kernelspec": {
   "display_name": "Python 3 (ipykernel)",
   "language": "python",
   "name": "python3"
  },
  "language_info": {
   "codemirror_mode": {
    "name": "ipython",
    "version": 3
   },
   "file_extension": ".py",
   "mimetype": "text/x-python",
   "name": "python",
   "nbconvert_exporter": "python",
   "pygments_lexer": "ipython3",
   "version": "3.9.13"
  }
 },
 "nbformat": 4,
 "nbformat_minor": 5
}
