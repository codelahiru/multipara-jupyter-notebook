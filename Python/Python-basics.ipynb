{
 "cells": [
  {
   "cell_type": "code",
   "execution_count": null,
   "id": "69116536",
   "metadata": {},
   "outputs": [],
   "source": []
  },
  {
   "cell_type": "code",
   "execution_count": 168,
   "id": "0eff1fd3",
   "metadata": {},
   "outputs": [],
   "source": [
    "import matplotlib.pyplot as plt\n",
    "from scipy import stats\n",
    "import numpy\n",
    "from sklearn.metrics import r2_score\n",
    "\n",
    "import pandas\n",
    "from sklearn import linear_model\n",
    "\n",
    "from sklearn.preprocessing import StandardScaler\n",
    "\n",
    "import numpy\n",
    "from sklearn.metrics import r2_score\n",
    "numpy.random.seed(2)\n",
    "\n",
    "\n",
    "from sklearn import tree\n",
    "from sklearn.tree import DecisionTreeClassifier\n"
   ]
  },
  {
   "cell_type": "markdown",
   "id": "a20f2b53",
   "metadata": {},
   "source": [
    "### Python If ... Else"
   ]
  },
  {
   "cell_type": "markdown",
   "id": "377f1dc4",
   "metadata": {},
   "source": [
    "If ... Else"
   ]
  },
  {
   "cell_type": "code",
   "execution_count": 169,
   "id": "bc6c6bc3",
   "metadata": {},
   "outputs": [
    {
     "name": "stdout",
     "output_type": "stream",
     "text": [
      "b is greater than a\n"
     ]
    }
   ],
   "source": [
    "a = 33\n",
    "b = 200\n",
    "if b > a:\n",
    "  print(\"b is greater than a\")"
   ]
  },
  {
   "cell_type": "markdown",
   "id": "f91ac8e0",
   "metadata": {},
   "source": [
    "Elif"
   ]
  },
  {
   "cell_type": "code",
   "execution_count": 170,
   "id": "dc430a9c",
   "metadata": {},
   "outputs": [
    {
     "name": "stdout",
     "output_type": "stream",
     "text": [
      "a and b are equal\n"
     ]
    }
   ],
   "source": [
    "a = 33\n",
    "b = 33\n",
    "if b > a:\n",
    "  print(\"b is greater than a\")\n",
    "elif a == b:\n",
    "  print(\"a and b are equal\")"
   ]
  },
  {
   "cell_type": "markdown",
   "id": "085b3046",
   "metadata": {},
   "source": [
    "Else"
   ]
  },
  {
   "cell_type": "code",
   "execution_count": 171,
   "id": "2393febe",
   "metadata": {},
   "outputs": [
    {
     "name": "stdout",
     "output_type": "stream",
     "text": [
      "a is greater than b\n"
     ]
    }
   ],
   "source": [
    "a = 200\n",
    "b = 33\n",
    "if b > a:\n",
    "  print(\"b is greater than a\")\n",
    "elif a == b:\n",
    "  print(\"a and b are equal\")\n",
    "else:\n",
    "  print(\"a is greater than b\")"
   ]
  },
  {
   "cell_type": "markdown",
   "id": "d8300c3c",
   "metadata": {},
   "source": [
    "While loop"
   ]
  },
  {
   "cell_type": "code",
   "execution_count": 172,
   "id": "2126bf18",
   "metadata": {},
   "outputs": [
    {
     "name": "stdout",
     "output_type": "stream",
     "text": [
      "1\n",
      "2\n",
      "3\n",
      "4\n",
      "5\n"
     ]
    }
   ],
   "source": [
    "i = 1\n",
    "while i < 6:\n",
    "  print(i)\n",
    "  i += 1"
   ]
  },
  {
   "cell_type": "code",
   "execution_count": 173,
   "id": "49ce513f",
   "metadata": {},
   "outputs": [
    {
     "name": "stdout",
     "output_type": "stream",
     "text": [
      "1\n",
      "2\n",
      "3\n"
     ]
    }
   ],
   "source": [
    "i = 1\n",
    "while i < 6:\n",
    "  print(i)\n",
    "  if i == 3:\n",
    "    break\n",
    "  i += 1"
   ]
  },
  {
   "cell_type": "code",
   "execution_count": 174,
   "id": "cc7cc357",
   "metadata": {},
   "outputs": [
    {
     "name": "stdout",
     "output_type": "stream",
     "text": [
      "1\n",
      "2\n",
      "4\n",
      "5\n",
      "6\n"
     ]
    }
   ],
   "source": [
    "i = 0\n",
    "while i < 6:\n",
    "  i += 1\n",
    "  if i == 3:\n",
    "    continue\n",
    "  print(i)"
   ]
  },
  {
   "cell_type": "code",
   "execution_count": 175,
   "id": "7b050169",
   "metadata": {},
   "outputs": [
    {
     "name": "stdout",
     "output_type": "stream",
     "text": [
      "1\n",
      "2\n",
      "3\n",
      "4\n",
      "5\n",
      "i is no longer less than 6\n"
     ]
    }
   ],
   "source": [
    "i = 1\n",
    "while i < 6:\n",
    "  print(i)\n",
    "  i += 1\n",
    "else:\n",
    "  print(\"i is no longer less than 6\")"
   ]
  },
  {
   "cell_type": "markdown",
   "id": "13ba1d9d",
   "metadata": {},
   "source": [
    "For Loops - \n",
    "\n",
    "A for loop is used for iterating over a sequence (that is either a list, a tuple, a dictionary, a set, or a string)."
   ]
  },
  {
   "cell_type": "code",
   "execution_count": 176,
   "id": "de5c7d9c",
   "metadata": {},
   "outputs": [
    {
     "name": "stdout",
     "output_type": "stream",
     "text": [
      "apple\n",
      "banana\n",
      "cherry\n"
     ]
    }
   ],
   "source": [
    "fruits = [\"apple\", \"banana\", \"cherry\"]\n",
    "for x in fruits:\n",
    "  print(x)"
   ]
  },
  {
   "cell_type": "code",
   "execution_count": 177,
   "id": "ef82036f",
   "metadata": {},
   "outputs": [
    {
     "name": "stdout",
     "output_type": "stream",
     "text": [
      "b\n",
      "a\n",
      "n\n",
      "a\n",
      "n\n",
      "a\n"
     ]
    }
   ],
   "source": [
    "for x in \"banana\":\n",
    "  print(x)"
   ]
  },
  {
   "cell_type": "code",
   "execution_count": 178,
   "id": "e0eed63a",
   "metadata": {},
   "outputs": [
    {
     "name": "stdout",
     "output_type": "stream",
     "text": [
      "0\n",
      "1\n",
      "2\n",
      "3\n",
      "4\n",
      "5\n",
      "Finally finished!\n"
     ]
    }
   ],
   "source": [
    "for x in range(6):\n",
    "  if x == 7: break\n",
    "  print(x)\n",
    "else:\n",
    "  print(\"Finally finished!\")"
   ]
  },
  {
   "cell_type": "code",
   "execution_count": 179,
   "id": "20fd0a5b",
   "metadata": {},
   "outputs": [],
   "source": [
    "for x in [0, 1, 2]:\n",
    "  pass"
   ]
  },
  {
   "cell_type": "markdown",
   "id": "d6ec9369",
   "metadata": {},
   "source": [
    "### Python Functions"
   ]
  },
  {
   "cell_type": "code",
   "execution_count": 180,
   "id": "81120dee",
   "metadata": {},
   "outputs": [
    {
     "name": "stdout",
     "output_type": "stream",
     "text": [
      "Hello from a function\n"
     ]
    }
   ],
   "source": [
    "def my_function():\n",
    "  print(\"Hello from a function\")\n",
    "\n",
    "my_function()"
   ]
  },
  {
   "cell_type": "code",
   "execution_count": 181,
   "id": "83ee2de7",
   "metadata": {},
   "outputs": [
    {
     "name": "stdout",
     "output_type": "stream",
     "text": [
      "Emil Refsnes\n",
      "Tobias Refsnes\n",
      "Linus Refsnes\n"
     ]
    }
   ],
   "source": [
    "def my_function(fname):\n",
    "  print(fname + \" Refsnes\")\n",
    "\n",
    "my_function(\"Emil\")\n",
    "my_function(\"Tobias\")\n",
    "my_function(\"Linus\")"
   ]
  },
  {
   "cell_type": "code",
   "execution_count": 182,
   "id": "9d870e10",
   "metadata": {},
   "outputs": [
    {
     "name": "stdout",
     "output_type": "stream",
     "text": [
      "Emil Refsnes\n"
     ]
    }
   ],
   "source": [
    "def my_function(fname, lname):\n",
    "  print(fname + \" \" + lname)\n",
    "\n",
    "my_function(\"Emil\", \"Refsnes\")"
   ]
  },
  {
   "cell_type": "code",
   "execution_count": 183,
   "id": "a675cf7e",
   "metadata": {},
   "outputs": [
    {
     "name": "stdout",
     "output_type": "stream",
     "text": [
      "The youngest child is Linus\n"
     ]
    }
   ],
   "source": [
    "def my_function(*kids):\n",
    "  print(\"The youngest child is \" + kids[2])\n",
    "\n",
    "my_function(\"Emil\", \"Tobias\", \"Linus\")"
   ]
  },
  {
   "cell_type": "code",
   "execution_count": 184,
   "id": "8de77921",
   "metadata": {},
   "outputs": [
    {
     "name": "stdout",
     "output_type": "stream",
     "text": [
      "The youngest child is Linus\n"
     ]
    }
   ],
   "source": [
    "def my_function(child3, child2, child1):\n",
    "  print(\"The youngest child is \" + child3)\n",
    "\n",
    "my_function(child1 = \"Emil\", child2 = \"Tobias\", child3 = \"Linus\")"
   ]
  },
  {
   "cell_type": "code",
   "execution_count": 185,
   "id": "f84f0dfe",
   "metadata": {},
   "outputs": [
    {
     "name": "stdout",
     "output_type": "stream",
     "text": [
      "His last name is Refsnes\n"
     ]
    }
   ],
   "source": [
    "def my_function(**kid):\n",
    "  print(\"His last name is \" + kid[\"lname\"])\n",
    "\n",
    "my_function(fname = \"Tobias\", lname = \"Refsnes\")"
   ]
  },
  {
   "cell_type": "code",
   "execution_count": 186,
   "id": "4762e88d",
   "metadata": {},
   "outputs": [
    {
     "name": "stdout",
     "output_type": "stream",
     "text": [
      "I am from Sweden\n",
      "I am from India\n",
      "I am from Norway\n",
      "I am from Brazil\n"
     ]
    }
   ],
   "source": [
    "def my_function(country = \"Norway\"):\n",
    "  print(\"I am from \" + country)\n",
    "\n",
    "my_function(\"Sweden\")\n",
    "my_function(\"India\")\n",
    "my_function()\n",
    "my_function(\"Brazil\")"
   ]
  },
  {
   "cell_type": "code",
   "execution_count": 187,
   "id": "49341237",
   "metadata": {},
   "outputs": [
    {
     "name": "stdout",
     "output_type": "stream",
     "text": [
      "apple\n",
      "banana\n",
      "cherry\n"
     ]
    }
   ],
   "source": [
    "def my_function(food):\n",
    "  for x in food:\n",
    "    print(x)\n",
    "\n",
    "fruits = [\"apple\", \"banana\", \"cherry\"]\n",
    "\n",
    "my_function(fruits)"
   ]
  },
  {
   "cell_type": "code",
   "execution_count": 188,
   "id": "c59fc7a4",
   "metadata": {},
   "outputs": [
    {
     "name": "stdout",
     "output_type": "stream",
     "text": [
      "15\n",
      "25\n",
      "45\n"
     ]
    }
   ],
   "source": [
    "def my_function(x):\n",
    "  return 5 * x\n",
    "\n",
    "print(my_function(3))\n",
    "print(my_function(5))\n",
    "print(my_function(9))"
   ]
  },
  {
   "cell_type": "code",
   "execution_count": 189,
   "id": "34b4a85b",
   "metadata": {},
   "outputs": [],
   "source": [
    "def myfunction():\n",
    "  pass"
   ]
  },
  {
   "cell_type": "code",
   "execution_count": 190,
   "id": "b8689945",
   "metadata": {},
   "outputs": [
    {
     "name": "stdout",
     "output_type": "stream",
     "text": [
      "\n",
      "\n",
      "Recursion Example Results\n",
      "1\n",
      "3\n",
      "6\n",
      "10\n",
      "15\n",
      "21\n"
     ]
    },
    {
     "data": {
      "text/plain": [
       "21"
      ]
     },
     "execution_count": 190,
     "metadata": {},
     "output_type": "execute_result"
    }
   ],
   "source": [
    "def tri_recursion(k):\n",
    "  if(k > 0):\n",
    "    result = k + tri_recursion(k - 1)\n",
    "    print(result)\n",
    "  else:\n",
    "    result = 0\n",
    "  return result\n",
    "\n",
    "print(\"\\n\\nRecursion Example Results\")\n",
    "tri_recursion(6)"
   ]
  },
  {
   "cell_type": "markdown",
   "id": "45ed5702",
   "metadata": {},
   "source": [
    "## 5 Machine Learning"
   ]
  },
  {
   "cell_type": "markdown",
   "id": "47999155",
   "metadata": {},
   "source": [
    "### 5.1 Mean"
   ]
  },
  {
   "cell_type": "code",
   "execution_count": 191,
   "id": "f2665aa1",
   "metadata": {},
   "outputs": [
    {
     "name": "stdout",
     "output_type": "stream",
     "text": [
      "89.76923076923077\n"
     ]
    }
   ],
   "source": [
    "import numpy\n",
    "\n",
    "speed = [99,86,87,88,111,86,103,87,94,78,77,85,86]\n",
    "\n",
    "x = numpy.mean(speed)\n",
    "\n",
    "print(x)"
   ]
  },
  {
   "cell_type": "markdown",
   "id": "c140c71e",
   "metadata": {},
   "source": [
    "### 5.2 Standard Deviation"
   ]
  },
  {
   "cell_type": "markdown",
   "id": "a399078e",
   "metadata": {},
   "source": [
    "Standard deviation is a number that describes how spread out the values are.\n",
    "A low standard deviation means that most of the numbers are close to the mean (average) value.\n",
    "A high standard deviation means that the values are spread out over a wider range."
   ]
  },
  {
   "cell_type": "code",
   "execution_count": 192,
   "id": "722b9df8",
   "metadata": {},
   "outputs": [
    {
     "name": "stdout",
     "output_type": "stream",
     "text": [
      "0.9035079029052513\n"
     ]
    }
   ],
   "source": [
    "import numpy\n",
    "\n",
    "speed = [86,87,88,86,87,85,86]\n",
    "\n",
    "x = numpy.std(speed)\n",
    "\n",
    "print(x)"
   ]
  },
  {
   "cell_type": "markdown",
   "id": "7c6b754b",
   "metadata": {},
   "source": [
    "Meaning that most of the values are within the range of 0.9 from the mean value, which is 86.4."
   ]
  },
  {
   "cell_type": "code",
   "execution_count": 193,
   "id": "6c1b0c02",
   "metadata": {},
   "outputs": [
    {
     "name": "stdout",
     "output_type": "stream",
     "text": [
      "37.84501153334721\n"
     ]
    }
   ],
   "source": [
    "import numpy\n",
    "\n",
    "speed = [32,111,138,28,59,77,97]\n",
    "\n",
    "x = numpy.std(speed)\n",
    "\n",
    "print(x)"
   ]
  },
  {
   "cell_type": "markdown",
   "id": "462992cf",
   "metadata": {},
   "source": [
    "Meaning that most of the values are within the range of 37.85 from the mean value, which is 77.4."
   ]
  },
  {
   "cell_type": "markdown",
   "id": "08f55acf",
   "metadata": {},
   "source": [
    "### 5.3 Percentiles"
   ]
  },
  {
   "cell_type": "code",
   "execution_count": 194,
   "id": "641639bf",
   "metadata": {},
   "outputs": [
    {
     "name": "stdout",
     "output_type": "stream",
     "text": [
      "43.0\n"
     ]
    }
   ],
   "source": [
    "import numpy\n",
    "\n",
    "ages = [5,31,43,48,50,41,7,11,15,39,80,82,32,2,8,6,25,36,27,61,31]\n",
    "\n",
    "x = numpy.percentile(ages, 75)\n",
    "\n",
    "print(x)"
   ]
  },
  {
   "cell_type": "markdown",
   "id": "1c24df16",
   "metadata": {},
   "source": [
    "### 5.4 Data Distribution"
   ]
  },
  {
   "cell_type": "code",
   "execution_count": 195,
   "id": "977ab605",
   "metadata": {},
   "outputs": [
    {
     "data": {
      "image/png": "[encoded data removed]",
      "text/plain": [
       "<Figure size 640x480 with 1 Axes>"
      ]
     },
     "metadata": {},
     "output_type": "display_data"
    }
   ],
   "source": [
    "import numpy\n",
    "import matplotlib.pyplot as plt\n",
    "\n",
    "x = numpy.random.uniform(0.0, 5.0, 250)\n",
    "\n",
    "plt.hist(x, 5)\n",
    "plt.show()"
   ]
  },
  {
   "cell_type": "code",
   "execution_count": 196,
   "id": "eff72f95",
   "metadata": {},
   "outputs": [
    {
     "data": {
      "image/png": "[encoded data removed]",
      "text/plain": [
       "<Figure size 640x480 with 1 Axes>"
      ]
     },
     "metadata": {},
     "output_type": "display_data"
    }
   ],
   "source": [
    "import numpy\n",
    "import matplotlib.pyplot as plt\n",
    "\n",
    "x = numpy.random.normal(5.0, 1.0, 100000)\n",
    "\n",
    "plt.hist(x, 100)\n",
    "plt.show()"
   ]
  },
  {
   "cell_type": "code",
   "execution_count": 197,
   "id": "482a2815",
   "metadata": {},
   "outputs": [
    {
     "data": {
      "image/png": "[encoded data removed]",
      "text/plain": [
       "<Figure size 640x480 with 1 Axes>"
      ]
     },
     "metadata": {},
     "output_type": "display_data"
    }
   ],
   "source": [
    "import numpy\n",
    "import matplotlib.pyplot as plt\n",
    "\n",
    "x = numpy.random.normal(5.0, 1.0, 1000)\n",
    "y = numpy.random.normal(10.0, 2.0, 1000)\n",
    "\n",
    "plt.scatter(x, y)\n",
    "plt.show()"
   ]
  },
  {
   "cell_type": "markdown",
   "id": "826ac138",
   "metadata": {},
   "source": [
    "### 5.5 Normal Data Distribution"
   ]
  },
  {
   "cell_type": "markdown",
   "id": "008206a9",
   "metadata": {},
   "source": [
    "### 5.6 Scatter Plot"
   ]
  },
  {
   "cell_type": "markdown",
   "id": "44e364a3",
   "metadata": {},
   "source": [
    "### 5.7 Linear Regression"
   ]
  },
  {
   "cell_type": "code",
   "execution_count": 198,
   "id": "bfcbd2b0",
   "metadata": {},
   "outputs": [
    {
     "data": {
      "image/png": "[encoded data removed]",
      "text/plain": [
       "<Figure size 640x480 with 1 Axes>"
      ]
     },
     "metadata": {},
     "output_type": "display_data"
    }
   ],
   "source": [
    "x = [5,7,8,7,2,17,2,9,4,11,12,9,6]\n",
    "y = [99,86,87,88,111,86,103,87,94,78,77,85,86]\n",
    "\n",
    "slope, intercept, r, p, std_err = stats.linregress(x, y)\n",
    "\n",
    "def myfunc(x):\n",
    "  return slope * x + intercept\n",
    "\n",
    "mymodel = list(map(myfunc, x))\n",
    "\n",
    "plt.scatter(x, y)\n",
    "plt.plot(x, mymodel)\n",
    "plt.show()"
   ]
  },
  {
   "cell_type": "markdown",
   "id": "a82551d8",
   "metadata": {},
   "source": [
    "#### R for Relationship"
   ]
  },
  {
   "cell_type": "markdown",
   "id": "a80aa9fa",
   "metadata": {},
   "source": [
    "This relationship - the coefficient of correlation - is called r.\n",
    "The r value ranges from -1 to 1, where 0 means no relationship, and 1 (and -1) means 100% related.\n",
    "Python and the Scipy module will compute this value for you, all you have to do is feed it with the x and y values"
   ]
  },
  {
   "cell_type": "code",
   "execution_count": 199,
   "id": "7c56b5d5",
   "metadata": {},
   "outputs": [
    {
     "name": "stdout",
     "output_type": "stream",
     "text": [
      "-0.758591524376155\n"
     ]
    }
   ],
   "source": [
    "x = [5,7,8,7,2,17,2,9,4,11,12,9,6]\n",
    "y = [99,86,87,88,111,86,103,87,94,78,77,85,86]\n",
    "\n",
    "slope, intercept, r, p, std_err = stats.linregress(x, y)\n",
    "\n",
    "print(r)"
   ]
  },
  {
   "cell_type": "markdown",
   "id": "7320a1ca",
   "metadata": {},
   "source": [
    "Note: The result -0.76 shows that there is a relationship, not perfect, but it indicates that we could use linear regression in future predictions."
   ]
  },
  {
   "cell_type": "markdown",
   "id": "546d97f9",
   "metadata": {},
   "source": [
    "#### Predict Future Values"
   ]
  },
  {
   "cell_type": "code",
   "execution_count": 200,
   "id": "9fbdc956",
   "metadata": {},
   "outputs": [
    {
     "name": "stdout",
     "output_type": "stream",
     "text": [
      "85.59308314937454\n"
     ]
    }
   ],
   "source": [
    "x = [5,7,8,7,2,17,2,9,4,11,12,9,6]\n",
    "y = [99,86,87,88,111,86,103,87,94,78,77,85,86]\n",
    "\n",
    "slope, intercept, r, p, std_err = stats.linregress(x, y)\n",
    "\n",
    "def myfunc(x):\n",
    "  return slope * x + intercept\n",
    "\n",
    "speed = myfunc(10)\n",
    "\n",
    "print(speed)"
   ]
  },
  {
   "cell_type": "markdown",
   "id": "018718ac",
   "metadata": {},
   "source": [
    "#### Bad Fit?"
   ]
  },
  {
   "cell_type": "code",
   "execution_count": 201,
   "id": "5620e12a",
   "metadata": {},
   "outputs": [
    {
     "data": {
      "image/png": "[encoded data removed]",
      "text/plain": [
       "<Figure size 640x480 with 1 Axes>"
      ]
     },
     "metadata": {},
     "output_type": "display_data"
    }
   ],
   "source": [
    "x = [89,43,36,36,95,10,66,34,38,20,26,29,48,64,6,5,36,66,72,40]\n",
    "y = [21,46,3,35,67,95,53,72,58,10,26,34,90,33,38,20,56,2,47,15]\n",
    "\n",
    "slope, intercept, r, p, std_err = stats.linregress(x, y)\n",
    "\n",
    "def myfunc(x):\n",
    "  return slope * x + intercept\n",
    "\n",
    "mymodel = list(map(myfunc, x))\n",
    "\n",
    "plt.scatter(x, y)\n",
    "plt.plot(x, mymodel)\n",
    "plt.show()"
   ]
  },
  {
   "cell_type": "code",
   "execution_count": 202,
   "id": "9bdc6263",
   "metadata": {},
   "outputs": [
    {
     "name": "stdout",
     "output_type": "stream",
     "text": [
      "0.013318141542974915\n"
     ]
    }
   ],
   "source": [
    "slope, intercept, r, p, std_err = stats.linregress(x, y)\n",
    "\n",
    "print(r)"
   ]
  },
  {
   "cell_type": "markdown",
   "id": "e98da1c4",
   "metadata": {},
   "source": [
    "The result: 0.013 indicates a very bad relationship, and tells us that this data set is not suitable for linear regression."
   ]
  },
  {
   "cell_type": "markdown",
   "id": "432b7206",
   "metadata": {},
   "source": [
    "### Polynomial Regression"
   ]
  },
  {
   "cell_type": "markdown",
   "id": "6bb7885b",
   "metadata": {},
   "source": [
    "If your data points clearly will not fit a linear regression (a straight line through all data points), it might be ideal for polynomial regression.\n",
    "\n",
    "Polynomial regression, like linear regression, uses the relationship between the variables x and y to find the best way to draw a line through the data points."
   ]
  },
  {
   "cell_type": "code",
   "execution_count": 203,
   "id": "441bd30e",
   "metadata": {},
   "outputs": [
    {
     "data": {
      "image/png": "[encoded data removed]",
      "text/plain": [
       "<Figure size 640x480 with 1 Axes>"
      ]
     },
     "metadata": {},
     "output_type": "display_data"
    }
   ],
   "source": [
    "x = [1,2,3,5,6,7,8,9,10,12,13,14,15,16,18,19,21,22]\n",
    "y = [100,90,80,60,60,55,60,65,70,70,75,76,78,79,90,99,99,100]\n",
    "\n",
    "plt.scatter(x, y)\n",
    "plt.show()"
   ]
  },
  {
   "cell_type": "code",
   "execution_count": 204,
   "id": "b0cba311",
   "metadata": {},
   "outputs": [
    {
     "data": {
      "image/png": "[encoded data removed]",
      "text/plain": [
       "<Figure size 640x480 with 1 Axes>"
      ]
     },
     "metadata": {},
     "output_type": "display_data"
    }
   ],
   "source": [
    "mymodel = numpy.poly1d(numpy.polyfit(x, y, 3))\n",
    "\n",
    "myline = numpy.linspace(1, 22, 100)\n",
    "\n",
    "plt.scatter(x, y)\n",
    "plt.plot(myline, mymodel(myline))\n",
    "plt.show()"
   ]
  },
  {
   "cell_type": "markdown",
   "id": "7c4d119a",
   "metadata": {},
   "source": [
    "#### R-Squared"
   ]
  },
  {
   "cell_type": "markdown",
   "id": "eb15e7a2",
   "metadata": {},
   "source": [
    "It is important to know how well the relationship between the values of the x- and y-axis is, if there are no relationship the polynomial regression can not be used to predict anything.\n",
    "The relationship is measured with a value called the r-squared.\n",
    "The r-squared value ranges from 0 to 1, where 0 means no relationship, and 1 means 100% related"
   ]
  },
  {
   "cell_type": "code",
   "execution_count": 205,
   "id": "9850cef8",
   "metadata": {},
   "outputs": [
    {
     "name": "stdout",
     "output_type": "stream",
     "text": [
      "0.9432150416451026\n"
     ]
    }
   ],
   "source": [
    "x = [1,2,3,5,6,7,8,9,10,12,13,14,15,16,18,19,21,22]\n",
    "y = [100,90,80,60,60,55,60,65,70,70,75,76,78,79,90,99,99,100]\n",
    "\n",
    "\n",
    "mymodel = numpy.poly1d(numpy.polyfit(x, y, 3))\n",
    "\n",
    "print(r2_score(y, mymodel(x)))"
   ]
  },
  {
   "cell_type": "markdown",
   "id": "d202777b",
   "metadata": {},
   "source": [
    "Note: The result 0.94 shows that there is a very good relationship, and we can use polynomial regression in future predictions."
   ]
  },
  {
   "cell_type": "markdown",
   "id": "013e260b",
   "metadata": {},
   "source": [
    "#### Predict Future Values"
   ]
  },
  {
   "cell_type": "markdown",
   "id": "bcf35f51",
   "metadata": {},
   "source": [
    "Now we can use the information we have gathered to predict future values.\n",
    "\n",
    "Example: Let us try to predict the speed of a car that passes the tollbooth at around the time 17:00:\n",
    "\n",
    "To do so, we need the same mymodel array from the example above:"
   ]
  },
  {
   "cell_type": "code",
   "execution_count": 206,
   "id": "dde8dcc8",
   "metadata": {},
   "outputs": [],
   "source": [
    "mymodel = numpy.poly1d(numpy.polyfit(x, y, 3))"
   ]
  },
  {
   "cell_type": "code",
   "execution_count": 207,
   "id": "87761550",
   "metadata": {},
   "outputs": [
    {
     "name": "stdout",
     "output_type": "stream",
     "text": [
      "88.8733126969799\n"
     ]
    }
   ],
   "source": [
    "x = [1,2,3,5,6,7,8,9,10,12,13,14,15,16,18,19,21,22]\n",
    "y = [100,90,80,60,60,55,60,65,70,70,75,76,78,79,90,99,99,100]\n",
    "\n",
    "mymodel = numpy.poly1d(numpy.polyfit(x, y, 3))\n",
    "\n",
    "speed = mymodel(17)\n",
    "print(speed)"
   ]
  },
  {
   "cell_type": "markdown",
   "id": "97cfb0dd",
   "metadata": {},
   "source": [
    "#### Bad Fit?"
   ]
  },
  {
   "cell_type": "markdown",
   "id": "32a7bd95",
   "metadata": {},
   "source": [
    "Let us create an example where polynomial regression would not be the best method to predict future values."
   ]
  },
  {
   "cell_type": "code",
   "execution_count": 208,
   "id": "7bfc412d",
   "metadata": {},
   "outputs": [
    {
     "data": {
      "image/png": "[encoded data removed]",
      "text/plain": [
       "<Figure size 640x480 with 1 Axes>"
      ]
     },
     "metadata": {},
     "output_type": "display_data"
    }
   ],
   "source": [
    "x = [89,43,36,36,95,10,66,34,38,20,26,29,48,64,6,5,36,66,72,40]\n",
    "y = [21,46,3,35,67,95,53,72,58,10,26,34,90,33,38,20,56,2,47,15]\n",
    "\n",
    "mymodel = numpy.poly1d(numpy.polyfit(x, y, 3))\n",
    "\n",
    "myline = numpy.linspace(2, 95, 100)\n",
    "\n",
    "plt.scatter(x, y)\n",
    "plt.plot(myline, mymodel(myline))\n",
    "plt.show()"
   ]
  },
  {
   "cell_type": "code",
   "execution_count": 209,
   "id": "c8a18742",
   "metadata": {},
   "outputs": [
    {
     "name": "stdout",
     "output_type": "stream",
     "text": [
      "0.009952707566680541\n"
     ]
    }
   ],
   "source": [
    "mymodel = numpy.poly1d(numpy.polyfit(x, y, 3))\n",
    "\n",
    "print(r2_score(y, mymodel(x)))"
   ]
  },
  {
   "cell_type": "markdown",
   "id": "d89c09b5",
   "metadata": {},
   "source": [
    "The result: 0.00995 indicates a very bad relationship, and tells us that this data set is not suitable for polynomial regression."
   ]
  },
  {
   "cell_type": "markdown",
   "id": "c933a8a9",
   "metadata": {},
   "source": [
    "### Multiple Regression"
   ]
  },
  {
   "cell_type": "code",
   "execution_count": null,
   "id": "70738459",
   "metadata": {},
   "outputs": [],
   "source": []
  },
  {
   "cell_type": "markdown",
   "id": "61c8eec9",
   "metadata": {},
   "source": [
    "Multiple regression is like linear regression, but with more than one independent value"
   ]
  },
  {
   "cell_type": "code",
   "execution_count": 210,
   "id": "91cb9b50",
   "metadata": {
    "scrolled": true
   },
   "outputs": [
    {
     "name": "stdout",
     "output_type": "stream",
     "text": [
      "[107.2087328]\n"
     ]
    },
    {
     "name": "stderr",
     "output_type": "stream",
     "text": [
      "C:\\Users\\gayan\\anaconda3\\Lib\\site-packages\\sklearn\\base.py:464: UserWarning: X does not have valid feature names, but LinearRegression was fitted with feature names\n",
      "  warnings.warn(\n"
     ]
    }
   ],
   "source": [
    "df = pandas.read_csv(\"data.csv\")\n",
    "\n",
    "X = df[['Weight', 'Volume']]\n",
    "y = df['CO2']\n",
    "\n",
    "regr = linear_model.LinearRegression()\n",
    "regr.fit(X, y)\n",
    "\n",
    "#predict the CO2 emission of a car where the weight is 2300kg, and the volume is 1300cm3:\n",
    "predictedCO2 = regr.predict([[2300, 1300]])\n",
    "\n",
    "print(predictedCO2)"
   ]
  },
  {
   "cell_type": "markdown",
   "id": "e93d687f",
   "metadata": {},
   "source": [
    "### Scale"
   ]
  },
  {
   "cell_type": "markdown",
   "id": "e739fb62",
   "metadata": {},
   "source": [
    "When your data has different values, and even different measurement units, it can be difficult to compare them. What is kilograms compared to meters? Or altitude compared to time?\n",
    "\n",
    "The answer to this problem is scaling. We can scale data into new values that are easier to compare."
   ]
  },
  {
   "cell_type": "code",
   "execution_count": 211,
   "id": "3517e8fb",
   "metadata": {},
   "outputs": [
    {
     "name": "stdout",
     "output_type": "stream",
     "text": [
      "[[-2.10389253 -1.59336644]\n",
      " [-0.55407235 -1.07190106]\n",
      " [-1.52166278 -1.59336644]\n",
      " [-1.78973979 -1.85409913]\n",
      " [-0.63784641 -0.28970299]\n",
      " [-1.52166278 -1.59336644]\n",
      " [-0.76769621 -0.55043568]\n",
      " [ 0.3046118  -0.28970299]\n",
      " [-0.7551301  -0.28970299]\n",
      " [-0.59595938 -0.0289703 ]\n",
      " [-1.30803892 -1.33263375]\n",
      " [-1.26615189 -0.81116837]\n",
      " [-0.7551301  -1.59336644]\n",
      " [-0.16871166 -0.0289703 ]\n",
      " [ 0.14125238 -0.0289703 ]\n",
      " [ 0.15800719 -0.0289703 ]\n",
      " [ 0.3046118  -0.0289703 ]\n",
      " [-0.05142797  1.53542584]\n",
      " [-0.72580918 -0.0289703 ]\n",
      " [ 0.14962979  1.01396046]\n",
      " [ 1.2219378  -0.0289703 ]\n",
      " [ 0.5685001   1.01396046]\n",
      " [ 0.3046118   1.27469315]\n",
      " [ 0.51404696 -0.0289703 ]\n",
      " [ 0.51404696  1.01396046]\n",
      " [ 0.72348212 -0.28970299]\n",
      " [ 0.8281997   1.01396046]\n",
      " [ 1.81254495  1.01396046]\n",
      " [ 0.96642691 -0.0289703 ]\n",
      " [ 1.72877089  1.01396046]\n",
      " [ 1.30990057  1.27469315]\n",
      " [ 1.90050772  1.01396046]\n",
      " [-0.23991961 -0.0289703 ]\n",
      " [ 0.40932938 -0.0289703 ]\n",
      " [ 0.47215993 -0.0289703 ]\n",
      " [ 0.4302729   2.31762392]]\n"
     ]
    }
   ],
   "source": [
    "scale = StandardScaler()\n",
    "\n",
    "df = pandas.read_csv(\"data.csv\")\n",
    "\n",
    "X = df[['Weight', 'Volume']]\n",
    "\n",
    "scaledX = scale.fit_transform(X)\n",
    "\n",
    "print(scaledX)"
   ]
  },
  {
   "cell_type": "markdown",
   "id": "c56c4429",
   "metadata": {},
   "source": [
    "### Train/Test"
   ]
  },
  {
   "cell_type": "code",
   "execution_count": 212,
   "id": "0695fb94",
   "metadata": {
    "scrolled": true
   },
   "outputs": [
    {
     "data": {
      "image/png": "[encoded data removed]",
      "text/plain": [
       "<Figure size 640x480 with 1 Axes>"
      ]
     },
     "metadata": {},
     "output_type": "display_data"
    }
   ],
   "source": [
    "\n",
    "numpy.random.seed(2)\n",
    "\n",
    "x = numpy.random.normal(3, 1, 100)\n",
    "y = numpy.random.normal(150, 40, 100) / x\n",
    "\n",
    "plt.scatter(x, y)\n",
    "plt.show()"
   ]
  },
  {
   "cell_type": "code",
   "execution_count": 213,
   "id": "8c7c5fee",
   "metadata": {},
   "outputs": [],
   "source": [
    "train_x = x[:80]\n",
    "train_y = y[:80]\n",
    "\n",
    "test_x = x[80:]\n",
    "test_y = y[80:]"
   ]
  },
  {
   "cell_type": "code",
   "execution_count": 214,
   "id": "6d3abfba",
   "metadata": {
    "scrolled": true
   },
   "outputs": [
    {
     "data": {
      "image/png": "[encoded data removed]",
      "text/plain": [
       "<Figure size 640x480 with 1 Axes>"
      ]
     },
     "metadata": {},
     "output_type": "display_data"
    }
   ],
   "source": [
    "plt.scatter(train_x, train_y)\n",
    "plt.show()"
   ]
  },
  {
   "cell_type": "code",
   "execution_count": 215,
   "id": "41472f16",
   "metadata": {},
   "outputs": [
    {
     "data": {
      "image/png": "[encoded data removed]",
      "text/plain": [
       "<Figure size 640x480 with 1 Axes>"
      ]
     },
     "metadata": {},
     "output_type": "display_data"
    }
   ],
   "source": [
    "import numpy\n",
    "import matplotlib.pyplot as plt\n",
    "numpy.random.seed(2)\n",
    "\n",
    "x = numpy.random.normal(3, 1, 100)\n",
    "y = numpy.random.normal(150, 40, 100) / x\n",
    "\n",
    "train_x = x[:80]\n",
    "train_y = y[:80]\n",
    "\n",
    "test_x = x[80:]\n",
    "test_y = y[80:]\n",
    "\n",
    "mymodel = numpy.poly1d(numpy.polyfit(train_x, train_y, 4))\n",
    "\n",
    "myline = numpy.linspace(0, 6, 100)\n",
    "\n",
    "plt.scatter(train_x, train_y)\n",
    "plt.plot(myline, mymodel(myline))\n",
    "plt.show()"
   ]
  },
  {
   "cell_type": "markdown",
   "id": "e4b2a9da",
   "metadata": {},
   "source": [
    "### R2"
   ]
  },
  {
   "cell_type": "code",
   "execution_count": 216,
   "id": "27095b0b",
   "metadata": {},
   "outputs": [
    {
     "name": "stdout",
     "output_type": "stream",
     "text": [
      "0.9235608508022746\n"
     ]
    }
   ],
   "source": [
    "\n",
    "\n",
    "x = numpy.random.normal(3, 1, 100)\n",
    "y = numpy.random.normal(150, 40, 100) / x\n",
    "\n",
    "train_x = x[:80]\n",
    "train_y = y[:80]\n",
    "\n",
    "test_x = x[80:]\n",
    "test_y = y[80:]\n",
    "\n",
    "mymodel = numpy.poly1d(numpy.polyfit(train_x, train_y, 4))\n",
    "\n",
    "r2 = r2_score(train_y, mymodel(train_x))\n",
    "\n",
    "print(r2)"
   ]
  },
  {
   "cell_type": "code",
   "execution_count": 217,
   "id": "6b031c58",
   "metadata": {},
   "outputs": [
    {
     "name": "stdout",
     "output_type": "stream",
     "text": [
      "0.7327894851349233\n"
     ]
    }
   ],
   "source": [
    "\n",
    "\n",
    "x = numpy.random.normal(3, 1, 100)\n",
    "y = numpy.random.normal(150, 40, 100) / x\n",
    "\n",
    "train_x = x[:80]\n",
    "train_y = y[:80]\n",
    "\n",
    "test_x = x[80:]\n",
    "test_y = y[80:]\n",
    "\n",
    "mymodel = numpy.poly1d(numpy.polyfit(train_x, train_y, 4))\n",
    "\n",
    "r2 = r2_score(test_y, mymodel(test_x))\n",
    "\n",
    "print(r2)"
   ]
  },
  {
   "cell_type": "code",
   "execution_count": 218,
   "id": "cc79c9d2",
   "metadata": {},
   "outputs": [
    {
     "name": "stdout",
     "output_type": "stream",
     "text": [
      "0.8086921460343659\n"
     ]
    }
   ],
   "source": [
    "import numpy\n",
    "from sklearn.metrics import r2_score\n",
    "numpy.random.seed(2)\n",
    "\n",
    "x = numpy.random.normal(3, 1, 100)\n",
    "y = numpy.random.normal(150, 40, 100) / x\n",
    "\n",
    "train_x = x[:80]\n",
    "train_y = y[:80]\n",
    "\n",
    "test_x = x[80:]\n",
    "test_y = y[80:]\n",
    "\n",
    "mymodel = numpy.poly1d(numpy.polyfit(train_x, train_y, 4))\n",
    "\n",
    "r2 = r2_score(test_y, mymodel(test_x))\n",
    "\n",
    "print(r2)"
   ]
  },
  {
   "cell_type": "code",
   "execution_count": 219,
   "id": "52660da5",
   "metadata": {},
   "outputs": [
    {
     "name": "stdout",
     "output_type": "stream",
     "text": [
      "22.879625918118336\n"
     ]
    }
   ],
   "source": [
    "print(mymodel(5))"
   ]
  },
  {
   "cell_type": "markdown",
   "id": "f32a9a52",
   "metadata": {},
   "source": [
    "### Decision Tree"
   ]
  },
  {
   "cell_type": "markdown",
   "id": "bedf2f0d",
   "metadata": {},
   "source": [
    "A Decision Tree is a Flow Chart, and can help you make decisions based on previous experience."
   ]
  },
  {
   "cell_type": "code",
   "execution_count": 220,
   "id": "f1c9494b",
   "metadata": {},
   "outputs": [
    {
     "name": "stdout",
     "output_type": "stream",
     "text": [
      "    Age  Experience  Rank Nationality   Go\n",
      "0    36          10     9          UK   NO\n",
      "1    42          12     4         USA   NO\n",
      "2    23           4     6           N   NO\n",
      "3    52           4     4         USA   NO\n",
      "4    43          21     8         USA  YES\n",
      "5    44          14     5          UK   NO\n",
      "6    66           3     7           N  YES\n",
      "7    35          14     9          UK  YES\n",
      "8    52          13     7           N  YES\n",
      "9    35           5     9           N  YES\n",
      "10   24           3     5         USA   NO\n",
      "11   18           3     7          UK  YES\n",
      "12   45           9     9          UK  YES\n"
     ]
    }
   ],
   "source": [
    "import pandas\n",
    "\n",
    "df = pandas.read_csv(\"data1.csv\")\n",
    "\n",
    "print(df)"
   ]
  },
  {
   "cell_type": "code",
   "execution_count": 221,
   "id": "f6a24939",
   "metadata": {},
   "outputs": [
    {
     "name": "stdout",
     "output_type": "stream",
     "text": [
      "    Age  Experience  Rank  Nationality  Go\n",
      "0    36          10     9            0   0\n",
      "1    42          12     4            1   0\n",
      "2    23           4     6            2   0\n",
      "3    52           4     4            1   0\n",
      "4    43          21     8            1   1\n",
      "5    44          14     5            0   0\n",
      "6    66           3     7            2   1\n",
      "7    35          14     9            0   1\n",
      "8    52          13     7            2   1\n",
      "9    35           5     9            2   1\n",
      "10   24           3     5            1   0\n",
      "11   18           3     7            0   1\n",
      "12   45           9     9            0   1\n"
     ]
    }
   ],
   "source": [
    "d = {'UK': 0, 'USA': 1, 'N': 2}\n",
    "df['Nationality'] = df['Nationality'].map(d)\n",
    "d = {'YES': 1, 'NO': 0}\n",
    "df['Go'] = df['Go'].map(d)\n",
    "\n",
    "print(df)"
   ]
  },
  {
   "cell_type": "code",
   "execution_count": 222,
   "id": "4fecbd71",
   "metadata": {},
   "outputs": [
    {
     "name": "stdout",
     "output_type": "stream",
     "text": [
      "    Age  Experience  Rank  Nationality\n",
      "0    36          10     9            0\n",
      "1    42          12     4            1\n",
      "2    23           4     6            2\n",
      "3    52           4     4            1\n",
      "4    43          21     8            1\n",
      "5    44          14     5            0\n",
      "6    66           3     7            2\n",
      "7    35          14     9            0\n",
      "8    52          13     7            2\n",
      "9    35           5     9            2\n",
      "10   24           3     5            1\n",
      "11   18           3     7            0\n",
      "12   45           9     9            0\n",
      "0     0\n",
      "1     0\n",
      "2     0\n",
      "3     0\n",
      "4     1\n",
      "5     0\n",
      "6     1\n",
      "7     1\n",
      "8     1\n",
      "9     1\n",
      "10    0\n",
      "11    1\n",
      "12    1\n",
      "Name: Go, dtype: int64\n"
     ]
    }
   ],
   "source": [
    "features = ['Age', 'Experience', 'Rank', 'Nationality']\n",
    "\n",
    "X = df[features]\n",
    "y = df['Go']\n",
    "\n",
    "print(X)\n",
    "print(y)"
   ]
  },
  {
   "cell_type": "markdown",
   "id": "46d14c6d",
   "metadata": {},
   "source": [
    "#### Example - Create and display a Decision Tree:"
   ]
  },
  {
   "cell_type": "code",
   "execution_count": 223,
   "id": "90f124a6",
   "metadata": {},
   "outputs": [
    {
     "data": {
      "text/plain": [
       "[Text(0.4, 0.875, 'Rank <= 6.5\\ngini = 0.497\\nsamples = 13\\nvalue = [6, 7]'),\n",
       " Text(0.2, 0.625, 'gini = 0.0\\nsamples = 5\\nvalue = [5, 0]'),\n",
       " Text(0.6, 0.625, 'Age <= 39.5\\ngini = 0.219\\nsamples = 8\\nvalue = [1, 7]'),\n",
       " Text(0.4, 0.375, 'Age <= 35.5\\ngini = 0.375\\nsamples = 4\\nvalue = [1, 3]'),\n",
       " Text(0.2, 0.125, 'gini = 0.0\\nsamples = 3\\nvalue = [0, 3]'),\n",
       " Text(0.6, 0.125, 'gini = 0.0\\nsamples = 1\\nvalue = [1, 0]'),\n",
       " Text(0.8, 0.375, 'gini = 0.0\\nsamples = 4\\nvalue = [0, 4]')]"
      ]
     },
     "execution_count": 223,
     "metadata": {},
     "output_type": "execute_result"
    },
    {
     "data": {
      "image/png": "[encoded data removed]",
      "text/plain": [
       "<Figure size 640x480 with 1 Axes>"
      ]
     },
     "metadata": {},
     "output_type": "display_data"
    }
   ],
   "source": [
    "df = pandas.read_csv(\"data1.csv\")\n",
    "\n",
    "d = {'UK': 0, 'USA': 1, 'N': 2}\n",
    "df['Nationality'] = df['Nationality'].map(d)\n",
    "d = {'YES': 1, 'NO': 0}\n",
    "df['Go'] = df['Go'].map(d)\n",
    "\n",
    "features = ['Age', 'Experience', 'Rank', 'Nationality']\n",
    "\n",
    "X = df[features]\n",
    "y = df['Go']\n",
    "\n",
    "dtree = DecisionTreeClassifier()\n",
    "dtree = dtree.fit(X, y)\n",
    "\n",
    "tree.plot_tree(dtree, feature_names=features)"
   ]
  }
 ],
 "metadata": {
  "kernelspec": {
   "display_name": "Python 3 (ipykernel)",
   "language": "python",
   "name": "python3"
  },
  "language_info": {
   "codemirror_mode": {
    "name": "ipython",
    "version": 3
   },
   "file_extension": ".py",
   "mimetype": "text/x-python",
   "name": "python",
   "nbconvert_exporter": "python",
   "pygments_lexer": "ipython3",
   "version": "3.11.5"
  }
 },
 "nbformat": 4,
 "nbformat_minor": 5
}
